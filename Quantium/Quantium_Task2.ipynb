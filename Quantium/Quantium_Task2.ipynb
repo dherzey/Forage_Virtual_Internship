{
 "cells": [
  {
   "cell_type": "markdown",
   "metadata": {},
   "source": [
    "# Experimentation and Uplift Testing\n",
    "\n",
    "Trial stores were performed in stores 77, 86 and 88"
   ]
  },
  {
   "cell_type": "code",
   "execution_count": 1,
   "metadata": {},
   "outputs": [],
   "source": [
    "import numpy as np\n",
    "import pandas as pd\n",
    "import seaborn as sns\n",
    "import matplotlib.pyplot as plt\n",
    "import matplotlib.patches as mpatches\n",
    "\n",
    "pd.options.mode.chained_assignment = None  "
   ]
  },
  {
   "cell_type": "code",
   "execution_count": 2,
   "metadata": {},
   "outputs": [],
   "source": [
    "# customer_data = pd.read_csv('QVI_purchase_behaviour.csv')\n",
    "# transaction_data = pd.read_excel('QVI_transaction_data.xlsx')\n",
    "\n",
    "#cleaned transaction_data merged with customer_data\n",
    "data = pd.read_csv('QVI_data.csv', parse_dates=['DATE']) "
   ]
  },
  {
   "cell_type": "markdown",
   "metadata": {},
   "source": [
    "## I. Data processing\n",
    "Prepare all needed measures and tables for analysis"
   ]
  },
  {
   "cell_type": "code",
   "execution_count": 3,
   "metadata": {},
   "outputs": [
    {
     "name": "stdout",
     "output_type": "stream",
     "text": [
      "<class 'pandas.core.frame.DataFrame'>\n",
      "RangeIndex: 264834 entries, 0 to 264833\n",
      "Data columns (total 12 columns):\n",
      " #   Column            Non-Null Count   Dtype         \n",
      "---  ------            --------------   -----         \n",
      " 0   LYLTY_CARD_NBR    264834 non-null  int64         \n",
      " 1   DATE              264834 non-null  datetime64[ns]\n",
      " 2   STORE_NBR         264834 non-null  int64         \n",
      " 3   TXN_ID            264834 non-null  int64         \n",
      " 4   PROD_NBR          264834 non-null  int64         \n",
      " 5   PROD_NAME         264834 non-null  object        \n",
      " 6   PROD_QTY          264834 non-null  int64         \n",
      " 7   TOT_SALES         264834 non-null  float64       \n",
      " 8   PACK_SIZE         264834 non-null  int64         \n",
      " 9   BRAND             264834 non-null  object        \n",
      " 10  LIFESTAGE         264834 non-null  object        \n",
      " 11  PREMIUM_CUSTOMER  264834 non-null  object        \n",
      "dtypes: datetime64[ns](1), float64(1), int64(6), object(4)\n",
      "memory usage: 24.2+ MB\n"
     ]
    }
   ],
   "source": [
    "data.info()"
   ]
  },
  {
   "cell_type": "code",
   "execution_count": 4,
   "metadata": {},
   "outputs": [
    {
     "data": {
      "text/html": [
       "<div>\n",
       "<style scoped>\n",
       "    .dataframe tbody tr th:only-of-type {\n",
       "        vertical-align: middle;\n",
       "    }\n",
       "\n",
       "    .dataframe tbody tr th {\n",
       "        vertical-align: top;\n",
       "    }\n",
       "\n",
       "    .dataframe thead th {\n",
       "        text-align: right;\n",
       "    }\n",
       "</style>\n",
       "<table border=\"1\" class=\"dataframe\">\n",
       "  <thead>\n",
       "    <tr style=\"text-align: right;\">\n",
       "      <th></th>\n",
       "      <th>LYLTY_CARD_NBR</th>\n",
       "      <th>DATE</th>\n",
       "      <th>STORE_NBR</th>\n",
       "      <th>TXN_ID</th>\n",
       "      <th>PROD_NBR</th>\n",
       "      <th>PROD_NAME</th>\n",
       "      <th>PROD_QTY</th>\n",
       "      <th>TOT_SALES</th>\n",
       "      <th>PACK_SIZE</th>\n",
       "      <th>BRAND</th>\n",
       "      <th>LIFESTAGE</th>\n",
       "      <th>PREMIUM_CUSTOMER</th>\n",
       "    </tr>\n",
       "  </thead>\n",
       "  <tbody>\n",
       "    <tr>\n",
       "      <th>0</th>\n",
       "      <td>1000</td>\n",
       "      <td>2018-10-17</td>\n",
       "      <td>1</td>\n",
       "      <td>1</td>\n",
       "      <td>5</td>\n",
       "      <td>Natural Chip        Compny SeaSalt175g</td>\n",
       "      <td>2</td>\n",
       "      <td>6.0</td>\n",
       "      <td>175</td>\n",
       "      <td>NATURAL</td>\n",
       "      <td>YOUNG SINGLES/COUPLES</td>\n",
       "      <td>Premium</td>\n",
       "    </tr>\n",
       "    <tr>\n",
       "      <th>1</th>\n",
       "      <td>1002</td>\n",
       "      <td>2018-09-16</td>\n",
       "      <td>1</td>\n",
       "      <td>2</td>\n",
       "      <td>58</td>\n",
       "      <td>Red Rock Deli Chikn&amp;Garlic Aioli 150g</td>\n",
       "      <td>1</td>\n",
       "      <td>2.7</td>\n",
       "      <td>150</td>\n",
       "      <td>RRD</td>\n",
       "      <td>YOUNG SINGLES/COUPLES</td>\n",
       "      <td>Mainstream</td>\n",
       "    </tr>\n",
       "    <tr>\n",
       "      <th>2</th>\n",
       "      <td>1003</td>\n",
       "      <td>2019-03-07</td>\n",
       "      <td>1</td>\n",
       "      <td>3</td>\n",
       "      <td>52</td>\n",
       "      <td>Grain Waves Sour    Cream&amp;Chives 210G</td>\n",
       "      <td>1</td>\n",
       "      <td>3.6</td>\n",
       "      <td>210</td>\n",
       "      <td>GRNWVES</td>\n",
       "      <td>YOUNG FAMILIES</td>\n",
       "      <td>Budget</td>\n",
       "    </tr>\n",
       "    <tr>\n",
       "      <th>3</th>\n",
       "      <td>1003</td>\n",
       "      <td>2019-03-08</td>\n",
       "      <td>1</td>\n",
       "      <td>4</td>\n",
       "      <td>106</td>\n",
       "      <td>Natural ChipCo      Hony Soy Chckn175g</td>\n",
       "      <td>1</td>\n",
       "      <td>3.0</td>\n",
       "      <td>175</td>\n",
       "      <td>NATURAL</td>\n",
       "      <td>YOUNG FAMILIES</td>\n",
       "      <td>Budget</td>\n",
       "    </tr>\n",
       "    <tr>\n",
       "      <th>4</th>\n",
       "      <td>1004</td>\n",
       "      <td>2018-11-02</td>\n",
       "      <td>1</td>\n",
       "      <td>5</td>\n",
       "      <td>96</td>\n",
       "      <td>WW Original Stacked Chips 160g</td>\n",
       "      <td>1</td>\n",
       "      <td>1.9</td>\n",
       "      <td>160</td>\n",
       "      <td>WOOLWORTHS</td>\n",
       "      <td>OLDER SINGLES/COUPLES</td>\n",
       "      <td>Mainstream</td>\n",
       "    </tr>\n",
       "  </tbody>\n",
       "</table>\n",
       "</div>"
      ],
      "text/plain": [
       "   LYLTY_CARD_NBR       DATE  STORE_NBR  TXN_ID  PROD_NBR  \\\n",
       "0            1000 2018-10-17          1       1         5   \n",
       "1            1002 2018-09-16          1       2        58   \n",
       "2            1003 2019-03-07          1       3        52   \n",
       "3            1003 2019-03-08          1       4       106   \n",
       "4            1004 2018-11-02          1       5        96   \n",
       "\n",
       "                                PROD_NAME  PROD_QTY  TOT_SALES  PACK_SIZE  \\\n",
       "0  Natural Chip        Compny SeaSalt175g         2        6.0        175   \n",
       "1   Red Rock Deli Chikn&Garlic Aioli 150g         1        2.7        150   \n",
       "2   Grain Waves Sour    Cream&Chives 210G         1        3.6        210   \n",
       "3  Natural ChipCo      Hony Soy Chckn175g         1        3.0        175   \n",
       "4          WW Original Stacked Chips 160g         1        1.9        160   \n",
       "\n",
       "        BRAND              LIFESTAGE PREMIUM_CUSTOMER  \n",
       "0     NATURAL  YOUNG SINGLES/COUPLES          Premium  \n",
       "1         RRD  YOUNG SINGLES/COUPLES       Mainstream  \n",
       "2     GRNWVES         YOUNG FAMILIES           Budget  \n",
       "3     NATURAL         YOUNG FAMILIES           Budget  \n",
       "4  WOOLWORTHS  OLDER SINGLES/COUPLES       Mainstream  "
      ]
     },
     "execution_count": 4,
     "metadata": {},
     "output_type": "execute_result"
    }
   ],
   "source": [
    "data.head()"
   ]
  },
  {
   "cell_type": "markdown",
   "metadata": {},
   "source": [
    "We need to define the measures for our stores. We calculate these measures for the following:\n",
    "- total sales of chips\n",
    "- number of customers\n",
    "- average number of transactions per customer\n",
    "- avergae number of chips bought per customer\n",
    "- average price per unit of chips"
   ]
  },
  {
   "cell_type": "code",
   "execution_count": 5,
   "metadata": {},
   "outputs": [],
   "source": [
    "def calculate_measures(data) -> pd.DataFrame:\n",
    "    \"\"\"\n",
    "    Function to calculate for measures of each store per month.\n",
    "    This will return a DataFrame with the needed measurements.\n",
    "    \"\"\"\n",
    "    \n",
    "    data['YEARMONTH'] = data.DATE.dt.strftime(\"%Y%m\").astype(int)\n",
    "    \n",
    "    measures = data.groupby(['STORE_NBR','YEARMONTH'])\\\n",
    "                   .agg({\"TXN_ID\":\"count\",\n",
    "                         \"TOT_SALES\":\"sum\",\n",
    "                         \"PROD_QTY\":\"sum\",\n",
    "                         \"LYLTY_CARD_NBR\":\"nunique\"})\\\n",
    "                   .reset_index()\\\n",
    "                   .rename(columns={\"TXN_ID\":\"TXN_COUNT\",\n",
    "                                    \"LYLTY_CARD_NBR\":\"CUST_COUNT\"})\n",
    "                                                                        \n",
    "    measures['TXN_PER_CUST'] = measures.TXN_COUNT/measures.CUST_COUNT\n",
    "    measures['CHPS_PER_CUST'] = measures.PROD_QTY/measures.CUST_COUNT\n",
    "    measures['PRICE_PER_UNIT'] = measures.TOT_SALES/measures.PROD_QTY\n",
    "    \n",
    "    return measures"
   ]
  },
  {
   "cell_type": "markdown",
   "metadata": {},
   "source": [
    "There are 3 trials which began in Feb 2019 until Apr 2019. In order to compare with a control group, we would need to have a control group with the following criteria:\n",
    "- stores with a complete set of months (complete data for all 12 months)\n",
    "- stores with pre-trial measures, such as correlation and magnitude distance, having the closest similarity to our trial stores"
   ]
  },
  {
   "cell_type": "code",
   "execution_count": 6,
   "metadata": {},
   "outputs": [],
   "source": [
    "def correlation(t_store_nbr, c_store_nbr, columns, measures) -> pd.DataFrame:\n",
    "    \"\"\"\n",
    "    Function to calculate for the correlation of each control store\n",
    "    to the given trial store\n",
    "    \"\"\"\n",
    "    \n",
    "    corr_dict = {\"YEARMONTH\": [],\n",
    "                 \"TRIAL_STORE_NBR\": [],\n",
    "                 \"CONTROL_STORE_NBR\": [],\n",
    "                 \"CORR_SCORE\": []}\n",
    "\n",
    "    for i in c_store_lst:\n",
    "\n",
    "        trial_store = measures[measures.STORE_NBR==t_store_nbr]\n",
    "        control_store = measures[measures.STORE_NBR==i]\n",
    "\n",
    "        corr_dict[\"YEARMONTH\"].extend(trial_store['YEARMONTH'].to_list())\n",
    "        corr_dict['TRIAL_STORE_NBR'].extend(trial_store['STORE_NBR'].to_list())\n",
    "        corr_dict['CONTROL_STORE_NBR'].extend(control_store['STORE_NBR'].to_list())\n",
    "        corr_dict[\"CORR_SCORE\"].extend(trial_store[columns].reset_index()\\\n",
    "                               .corrwith(control_store[columns].reset_index(),\n",
    "                                axis=1,method='pearson',drop=True).to_list())\n",
    "        \n",
    "    return pd.DataFrame(corr_dict)"
   ]
  },
  {
   "cell_type": "markdown",
   "metadata": {},
   "source": [
    "We can also calculate the magnitude distance for each measure"
   ]
  },
  {
   "cell_type": "code",
   "execution_count": 7,
   "metadata": {},
   "outputs": [],
   "source": [
    "def magnitude_distance(t_store_nbr, c_store_nbr, columns, measures) -> pd.DataFrame:\n",
    "    \"\"\"\n",
    "    Function to calculate for the magnitude distance. This\n",
    "    will return standardized distances for each column.\n",
    "    \"\"\"    \n",
    "    \n",
    "    df1 = measures[measures.STORE_NBR==t_store_nbr][columns].reset_index(drop=True)\n",
    "    \n",
    "    distance = []\n",
    "    for i in c_store_nbr:\n",
    "        \n",
    "        control = measures[measures.STORE_NBR==i]\n",
    "        df2 = control[columns].reset_index(drop=True)\n",
    "        diff = abs(df1.subtract(df2))\n",
    "\n",
    "        diff['CONTROL_STORE_NBR'] = i\n",
    "        diff['YEARMONTH'] = control['YEARMONTH'].to_list()\n",
    "\n",
    "        distance.append(diff)\n",
    "        \n",
    "    final = pd.concat(distance)\n",
    "    final['TRIAL_STORE_NBR'] = t_store_nbr\n",
    "\n",
    "    for col in columns:\n",
    "        final[col] = 1 - ((final[col]-final[col].min())/(final[col].max()-final[col].min()))\n",
    "    \n",
    "    #we average the magnitude distance for each store and month\n",
    "    final['MAG_SCORE'] = final[columns].mean(axis=1)\n",
    "\n",
    "    return final[['YEARMONTH','TRIAL_STORE_NBR','CONTROL_STORE_NBR','MAG_SCORE']]"
   ]
  },
  {
   "cell_type": "markdown",
   "metadata": {},
   "source": [
    "To rank the stores, we can take the average of our correlation and distance measurements for each store."
   ]
  },
  {
   "cell_type": "code",
   "execution_count": 8,
   "metadata": {},
   "outputs": [],
   "source": [
    "def combined_measures(t_store_nbr, c_store_nbr, columns, measures):\n",
    "    \"\"\"\n",
    "    This function will call both correlation() and magnitude_distance()\n",
    "    to average their measures for a final control score\n",
    "    \"\"\"\n",
    "    \n",
    "    indices = ['YEARMONTH','TRIAL_STORE_NBR','CONTROL_STORE_NBR']\n",
    "    \n",
    "    corr_measure = correlation(t_store_nbr, c_store_nbr, columns, measures)\n",
    "    mag_measure = magnitude_distance(t_store_nbr, c_store_nbr, columns, measures)\n",
    "    \n",
    "    combined = corr_measure.merge(mag_measure, on=indices)\n",
    "    combined['CONTROL_SCORE'] = sum([abs(combined.CORR_SCORE),combined.MAG_SCORE])*0.5\n",
    "    \n",
    "    return combined"
   ]
  },
  {
   "cell_type": "code",
   "execution_count": 13,
   "metadata": {},
   "outputs": [],
   "source": [
    "columns = ['TOT_SALES', 'CUST_COUNT', 'TXN_PER_CUST', \n",
    "               'CHPS_PER_CUST', 'PRICE_PER_UNIT']\n",
    "\n",
    "measures = calculate_measures(data)\n",
    "pre_trial_measures = measures[measures.YEARMONTH < 201902]\n",
    "trial_measures = measures[(measures.YEARMONTH > 201901)&(measures.YEARMONTH < 201905)]\n",
    "\n",
    "c_store_lst = measures.groupby('STORE_NBR')['YEARMONTH'].count().reset_index()\n",
    "c_store_lst = c_store_lst[c_store_lst.YEARMONTH == 12]['STORE_NBR'].to_list()"
   ]
  },
  {
   "cell_type": "code",
   "execution_count": 113,
   "metadata": {},
   "outputs": [
    {
     "name": "stdout",
     "output_type": "stream",
     "text": [
      "Top 3 control stores for each trial store within the pre-trial period: \n",
      "\n",
      "Trial store 77:\n",
      "   CONTROL_STORE_NBR  CONTROL_SCORE\n",
      "0                 53       0.985847\n",
      "1                233       0.984828\n",
      "2                 46       0.980870 \n",
      "\n",
      "Trial store 86:\n",
      "   CONTROL_STORE_NBR  CONTROL_SCORE\n",
      "0                101       0.990745\n",
      "1                 94       0.989004\n",
      "2                106       0.987758 \n",
      "\n",
      "Trial store 88:\n",
      "   CONTROL_STORE_NBR  CONTROL_SCORE\n",
      "0                 65       0.985161\n",
      "1                 72       0.976440\n",
      "2                 95       0.971121 \n",
      "\n"
     ]
    }
   ],
   "source": [
    "print(\"Top 3 control stores for each trial store within the pre-trial period:\",\"\\n\")\n",
    "for t in [77,86,88]:\n",
    "    combined = combined_measures(t, c_store_lst, columns, pre_trial_measures)\n",
    "    top_3 = combined[~combined.CONTROL_STORE_NBR.isin([77,86,88])]\\\n",
    "                              .sort_values('CONTROL_SCORE',\n",
    "                                           ascending=False)\\\n",
    "                                           [['CONTROL_STORE_NBR','CONTROL_SCORE']]\\\n",
    "                              .drop_duplicates('CONTROL_STORE_NBR')\\\n",
    "                              .reset_index(drop=True).head(3)\n",
    "    print(f\"Trial store {t}:\\n{top_3}\",\"\\n\")"
   ]
  },
  {
   "cell_type": "markdown",
   "metadata": {},
   "source": [
    "## II. Analyzing data and measures for pre-trial months\n",
    "Pre-trial months occur before April 2019. We will gather measures for each store similarly to our previous task with customer segmentation."
   ]
  },
  {
   "cell_type": "code",
   "execution_count": 91,
   "metadata": {},
   "outputs": [
    {
     "data": {
      "text/html": [
       "<div>\n",
       "<style scoped>\n",
       "    .dataframe tbody tr th:only-of-type {\n",
       "        vertical-align: middle;\n",
       "    }\n",
       "\n",
       "    .dataframe tbody tr th {\n",
       "        vertical-align: top;\n",
       "    }\n",
       "\n",
       "    .dataframe thead th {\n",
       "        text-align: right;\n",
       "    }\n",
       "</style>\n",
       "<table border=\"1\" class=\"dataframe\">\n",
       "  <thead>\n",
       "    <tr style=\"text-align: right;\">\n",
       "      <th></th>\n",
       "      <th>STORE_NBR</th>\n",
       "      <th>YEARMONTH</th>\n",
       "      <th>TXN_COUNT</th>\n",
       "      <th>TOT_SALES</th>\n",
       "      <th>PROD_QTY</th>\n",
       "      <th>CUST_COUNT</th>\n",
       "      <th>TXN_PER_CUST</th>\n",
       "      <th>CHPS_PER_CUST</th>\n",
       "      <th>PRICE_PER_UNIT</th>\n",
       "    </tr>\n",
       "  </thead>\n",
       "  <tbody>\n",
       "    <tr>\n",
       "      <th>0</th>\n",
       "      <td>1</td>\n",
       "      <td>201807</td>\n",
       "      <td>52</td>\n",
       "      <td>206.9</td>\n",
       "      <td>62</td>\n",
       "      <td>49</td>\n",
       "      <td>1.061224</td>\n",
       "      <td>1.265306</td>\n",
       "      <td>3.337097</td>\n",
       "    </tr>\n",
       "    <tr>\n",
       "      <th>1</th>\n",
       "      <td>1</td>\n",
       "      <td>201808</td>\n",
       "      <td>43</td>\n",
       "      <td>176.1</td>\n",
       "      <td>54</td>\n",
       "      <td>42</td>\n",
       "      <td>1.023810</td>\n",
       "      <td>1.285714</td>\n",
       "      <td>3.261111</td>\n",
       "    </tr>\n",
       "    <tr>\n",
       "      <th>2</th>\n",
       "      <td>1</td>\n",
       "      <td>201809</td>\n",
       "      <td>62</td>\n",
       "      <td>278.8</td>\n",
       "      <td>75</td>\n",
       "      <td>59</td>\n",
       "      <td>1.050847</td>\n",
       "      <td>1.271186</td>\n",
       "      <td>3.717333</td>\n",
       "    </tr>\n",
       "    <tr>\n",
       "      <th>3</th>\n",
       "      <td>1</td>\n",
       "      <td>201810</td>\n",
       "      <td>45</td>\n",
       "      <td>188.1</td>\n",
       "      <td>58</td>\n",
       "      <td>44</td>\n",
       "      <td>1.022727</td>\n",
       "      <td>1.318182</td>\n",
       "      <td>3.243103</td>\n",
       "    </tr>\n",
       "    <tr>\n",
       "      <th>4</th>\n",
       "      <td>1</td>\n",
       "      <td>201811</td>\n",
       "      <td>47</td>\n",
       "      <td>192.6</td>\n",
       "      <td>57</td>\n",
       "      <td>46</td>\n",
       "      <td>1.021739</td>\n",
       "      <td>1.239130</td>\n",
       "      <td>3.378947</td>\n",
       "    </tr>\n",
       "  </tbody>\n",
       "</table>\n",
       "</div>"
      ],
      "text/plain": [
       "   STORE_NBR  YEARMONTH  TXN_COUNT  TOT_SALES  PROD_QTY  CUST_COUNT  \\\n",
       "0          1     201807         52      206.9        62          49   \n",
       "1          1     201808         43      176.1        54          42   \n",
       "2          1     201809         62      278.8        75          59   \n",
       "3          1     201810         45      188.1        58          44   \n",
       "4          1     201811         47      192.6        57          46   \n",
       "\n",
       "   TXN_PER_CUST  CHPS_PER_CUST  PRICE_PER_UNIT  \n",
       "0      1.061224       1.265306        3.337097  \n",
       "1      1.023810       1.285714        3.261111  \n",
       "2      1.050847       1.271186        3.717333  \n",
       "3      1.022727       1.318182        3.243103  \n",
       "4      1.021739       1.239130        3.378947  "
      ]
     },
     "execution_count": 91,
     "metadata": {},
     "output_type": "execute_result"
    }
   ],
   "source": [
    "measures.head()"
   ]
  },
  {
   "cell_type": "markdown",
   "metadata": {},
   "source": [
    "### Total sales per month\n",
    "We analyze the sales per month of our trial store and control stores."
   ]
  },
  {
   "cell_type": "code",
   "execution_count": 96,
   "metadata": {},
   "outputs": [
    {
     "data": {
      "image/png": "[encoded data removed]",
      "text/plain": [
       "<Figure size 864x288 with 1 Axes>"
      ]
     },
     "metadata": {},
     "output_type": "display_data"
    }
   ],
   "source": [
    "sns.set_style(\"whitegrid\")\n",
    "colorList = ['#7a5195','#ef5675','#ffa600']\n",
    "labelList = [\"Trial Store 53\",\"Control Store 77\",'Trial Period']\n",
    "handles = [mpatches.Patch(color=color, label=label)\\\n",
    "           for color, label in zip(colorList,labelList)]\n",
    "\n",
    "data_c =  measures[measures.STORE_NBR.isin([53,77])]\n",
    "\n",
    "plt.figure(figsize=(12,4))\n",
    "plt.axvspan(6.5,9.5,\n",
    "            color='#ffa600',\n",
    "            alpha=0.6)\n",
    "sns.barplot(data=data_c, \n",
    "            x='YEARMONTH', \n",
    "            y='TOT_SALES', \n",
    "            hue='STORE_NBR',\n",
    "            palette=colorList)\n",
    "plt.title('TOTAL SALES PER MONTH')\n",
    "plt.xlabel('YEAR_MONTH')\n",
    "plt.ylabel('SALES')\n",
    "plt.legend(handles=handles,\n",
    "           loc=\"upper right\",\n",
    "           bbox_to_anchor=(1.18,1))\n",
    "plt.show()"
   ]
  },
  {
   "cell_type": "code",
   "execution_count": 95,
   "metadata": {},
   "outputs": [
    {
     "data": {
      "image/png": "[encoded data removed]",
      "text/plain": [
       "<Figure size 864x288 with 1 Axes>"
      ]
     },
     "metadata": {},
     "output_type": "display_data"
    }
   ],
   "source": [
    "plt.figure(figsize=(12,4))\n",
    "plt.axvspan(6.5,9.5,\n",
    "            color='#ffa600',\n",
    "            alpha=0.6)\n",
    "sns.barplot(data=data_c, \n",
    "            x='YEARMONTH', \n",
    "            y='CUST_COUNT', \n",
    "            hue='STORE_NBR',\n",
    "            palette=colorList)\n",
    "plt.title('NUMBER OF CUSTOMERS PER MONTH')\n",
    "plt.xlabel('YEAR_MONTH')\n",
    "plt.ylabel('CUSTOMER COUNT')\n",
    "plt.legend(handles=handles,\n",
    "           loc=\"upper right\",\n",
    "           bbox_to_anchor=(1.18,1))\n",
    "plt.show()"
   ]
  },
  {
   "cell_type": "markdown",
   "metadata": {},
   "source": [
    "We would want to find if there has been an uplift during the trial period for the overall chip sales. In order to do this, we need to scale the control store's sales to a level similar to that of the trial store during the pre-trial period."
   ]
  },
  {
   "cell_type": "code",
   "execution_count": null,
   "metadata": {},
   "outputs": [],
   "source": []
  }
 ],
 "metadata": {
  "kernelspec": {
   "display_name": "Python 3",
   "language": "python",
   "name": "python3"
  },
  "language_info": {
   "codemirror_mode": {
    "name": "ipython",
    "version": 3
   },
   "file_extension": ".py",
   "mimetype": "text/x-python",
   "name": "python",
   "nbconvert_exporter": "python",
   "pygments_lexer": "ipython3",
   "version": "3.8.3"
  }
 },
 "nbformat": 4,
 "nbformat_minor": 4
}
