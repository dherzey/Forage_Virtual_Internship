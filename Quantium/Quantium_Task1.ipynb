{
 "cells": [
  {
   "cell_type": "markdown",
   "metadata": {},
   "source": [
    "# Chip Purchasing Type and Behavior of Customers\n",
    "\n",
    "We are tasked to analyze the transaction and customer data for chips with the goal of gaining insights on what drives chip sales among the different customer segments available.\n",
    "\n",
    "- LIFESTAGE: Customer attribute that identifies whether a customer has a family or not and what point in life they are at e.g. are their children in pre-school/primary/secondary school.\n",
    "\n",
    "- PREMIUM_CUSTOMER: Customer segmentation used to differentiate shoppers by the price point of products they buy and the types of products they buy. It is used to identify whether customers may spend more for quality or brand or whether they will purchase the cheapest options."
   ]
  },
  {
   "cell_type": "code",
   "execution_count": 1,
   "metadata": {},
   "outputs": [],
   "source": [
    "import re\n",
    "import xlrd\n",
    "import numpy as np\n",
    "import pandas as pd\n",
    "import seaborn as sns\n",
    "import matplotlib.pyplot as plt\n",
    "from wordcloud import WordCloud\n",
    "import matplotlib.patches as mpatches\n",
    "from datetime import datetime, timedelta\n",
    "from scipy.stats import ttest_ind, linregress\n",
    "\n",
    "pd.options.mode.chained_assignment = None  "
   ]
  },
  {
   "cell_type": "code",
   "execution_count": 2,
   "metadata": {},
   "outputs": [],
   "source": [
    "customer_data = pd.read_csv('QVI_purchase_behaviour.csv')\n",
    "transaction_data = pd.read_excel('QVI_transaction_data.xlsx')"
   ]
  },
  {
   "cell_type": "markdown",
   "metadata": {},
   "source": [
    "## I. Data Cleaning/Processing"
   ]
  },
  {
   "cell_type": "markdown",
   "metadata": {},
   "source": [
    "We first look into the records for each dataset. We also check for any `NULL` values."
   ]
  },
  {
   "cell_type": "markdown",
   "metadata": {},
   "source": [
    "### Customer Data"
   ]
  },
  {
   "cell_type": "code",
   "execution_count": 3,
   "metadata": {},
   "outputs": [
    {
     "name": "stdout",
     "output_type": "stream",
     "text": [
      "<class 'pandas.core.frame.DataFrame'>\n",
      "RangeIndex: 72637 entries, 0 to 72636\n",
      "Data columns (total 3 columns):\n",
      " #   Column            Non-Null Count  Dtype \n",
      "---  ------            --------------  ----- \n",
      " 0   LYLTY_CARD_NBR    72637 non-null  int64 \n",
      " 1   LIFESTAGE         72637 non-null  object\n",
      " 2   PREMIUM_CUSTOMER  72637 non-null  object\n",
      "dtypes: int64(1), object(2)\n",
      "memory usage: 1.7+ MB\n"
     ]
    }
   ],
   "source": [
    "customer_data.info()"
   ]
  },
  {
   "cell_type": "code",
   "execution_count": 4,
   "metadata": {},
   "outputs": [
    {
     "data": {
      "text/plain": [
       "LYLTY_CARD_NBR      72637\n",
       "LIFESTAGE               7\n",
       "PREMIUM_CUSTOMER        3\n",
       "dtype: int64"
      ]
     },
     "execution_count": 4,
     "metadata": {},
     "output_type": "execute_result"
    }
   ],
   "source": [
    "customer_data.nunique()"
   ]
  },
  {
   "cell_type": "code",
   "execution_count": 5,
   "metadata": {},
   "outputs": [
    {
     "data": {
      "text/plain": [
       "RETIREES                  14805\n",
       "OLDER SINGLES/COUPLES     14609\n",
       "YOUNG SINGLES/COUPLES     14441\n",
       "OLDER FAMILIES             9780\n",
       "YOUNG FAMILIES             9178\n",
       "MIDAGE SINGLES/COUPLES     7275\n",
       "NEW FAMILIES               2549\n",
       "Name: LIFESTAGE, dtype: int64"
      ]
     },
     "execution_count": 5,
     "metadata": {},
     "output_type": "execute_result"
    }
   ],
   "source": [
    "customer_data['LIFESTAGE'].value_counts()"
   ]
  },
  {
   "cell_type": "code",
   "execution_count": 6,
   "metadata": {},
   "outputs": [
    {
     "data": {
      "text/plain": [
       "Mainstream    29245\n",
       "Budget        24470\n",
       "Premium       18922\n",
       "Name: PREMIUM_CUSTOMER, dtype: int64"
      ]
     },
     "execution_count": 6,
     "metadata": {},
     "output_type": "execute_result"
    }
   ],
   "source": [
    "customer_data['PREMIUM_CUSTOMER'].value_counts()"
   ]
  },
  {
   "cell_type": "code",
   "execution_count": 7,
   "metadata": {},
   "outputs": [
    {
     "data": {
      "text/html": [
       "<div>\n",
       "<style scoped>\n",
       "    .dataframe tbody tr th:only-of-type {\n",
       "        vertical-align: middle;\n",
       "    }\n",
       "\n",
       "    .dataframe tbody tr th {\n",
       "        vertical-align: top;\n",
       "    }\n",
       "\n",
       "    .dataframe thead th {\n",
       "        text-align: right;\n",
       "    }\n",
       "</style>\n",
       "<table border=\"1\" class=\"dataframe\">\n",
       "  <thead>\n",
       "    <tr style=\"text-align: right;\">\n",
       "      <th></th>\n",
       "      <th>LYLTY_CARD_NBR</th>\n",
       "      <th>LIFESTAGE</th>\n",
       "      <th>PREMIUM_CUSTOMER</th>\n",
       "    </tr>\n",
       "  </thead>\n",
       "  <tbody>\n",
       "    <tr>\n",
       "      <th>0</th>\n",
       "      <td>1000</td>\n",
       "      <td>YOUNG SINGLES/COUPLES</td>\n",
       "      <td>Premium</td>\n",
       "    </tr>\n",
       "    <tr>\n",
       "      <th>1</th>\n",
       "      <td>1002</td>\n",
       "      <td>YOUNG SINGLES/COUPLES</td>\n",
       "      <td>Mainstream</td>\n",
       "    </tr>\n",
       "    <tr>\n",
       "      <th>2</th>\n",
       "      <td>1003</td>\n",
       "      <td>YOUNG FAMILIES</td>\n",
       "      <td>Budget</td>\n",
       "    </tr>\n",
       "    <tr>\n",
       "      <th>3</th>\n",
       "      <td>1004</td>\n",
       "      <td>OLDER SINGLES/COUPLES</td>\n",
       "      <td>Mainstream</td>\n",
       "    </tr>\n",
       "    <tr>\n",
       "      <th>4</th>\n",
       "      <td>1005</td>\n",
       "      <td>MIDAGE SINGLES/COUPLES</td>\n",
       "      <td>Mainstream</td>\n",
       "    </tr>\n",
       "  </tbody>\n",
       "</table>\n",
       "</div>"
      ],
      "text/plain": [
       "   LYLTY_CARD_NBR               LIFESTAGE PREMIUM_CUSTOMER\n",
       "0            1000   YOUNG SINGLES/COUPLES          Premium\n",
       "1            1002   YOUNG SINGLES/COUPLES       Mainstream\n",
       "2            1003          YOUNG FAMILIES           Budget\n",
       "3            1004   OLDER SINGLES/COUPLES       Mainstream\n",
       "4            1005  MIDAGE SINGLES/COUPLES       Mainstream"
      ]
     },
     "execution_count": 7,
     "metadata": {},
     "output_type": "execute_result"
    }
   ],
   "source": [
    "customer_data.head()"
   ]
  },
  {
   "cell_type": "markdown",
   "metadata": {},
   "source": [
    "### Transaction Data"
   ]
  },
  {
   "cell_type": "code",
   "execution_count": 8,
   "metadata": {},
   "outputs": [
    {
     "name": "stdout",
     "output_type": "stream",
     "text": [
      "<class 'pandas.core.frame.DataFrame'>\n",
      "RangeIndex: 264836 entries, 0 to 264835\n",
      "Data columns (total 8 columns):\n",
      " #   Column          Non-Null Count   Dtype  \n",
      "---  ------          --------------   -----  \n",
      " 0   DATE            264836 non-null  int64  \n",
      " 1   STORE_NBR       264836 non-null  int64  \n",
      " 2   LYLTY_CARD_NBR  264836 non-null  int64  \n",
      " 3   TXN_ID          264836 non-null  int64  \n",
      " 4   PROD_NBR        264836 non-null  int64  \n",
      " 5   PROD_NAME       264836 non-null  object \n",
      " 6   PROD_QTY        264836 non-null  int64  \n",
      " 7   TOT_SALES       264836 non-null  float64\n",
      "dtypes: float64(1), int64(6), object(1)\n",
      "memory usage: 16.2+ MB\n"
     ]
    }
   ],
   "source": [
    "transaction_data.info()"
   ]
  },
  {
   "cell_type": "code",
   "execution_count": 9,
   "metadata": {},
   "outputs": [
    {
     "data": {
      "text/plain": [
       "DATE                 364\n",
       "STORE_NBR            272\n",
       "LYLTY_CARD_NBR     72637\n",
       "TXN_ID            263127\n",
       "PROD_NBR             114\n",
       "PROD_NAME            114\n",
       "PROD_QTY               6\n",
       "TOT_SALES            112\n",
       "dtype: int64"
      ]
     },
     "execution_count": 9,
     "metadata": {},
     "output_type": "execute_result"
    }
   ],
   "source": [
    "transaction_data.nunique()"
   ]
  },
  {
   "cell_type": "code",
   "execution_count": 10,
   "metadata": {},
   "outputs": [
    {
     "data": {
      "text/html": [
       "<div>\n",
       "<style scoped>\n",
       "    .dataframe tbody tr th:only-of-type {\n",
       "        vertical-align: middle;\n",
       "    }\n",
       "\n",
       "    .dataframe tbody tr th {\n",
       "        vertical-align: top;\n",
       "    }\n",
       "\n",
       "    .dataframe thead th {\n",
       "        text-align: right;\n",
       "    }\n",
       "</style>\n",
       "<table border=\"1\" class=\"dataframe\">\n",
       "  <thead>\n",
       "    <tr style=\"text-align: right;\">\n",
       "      <th></th>\n",
       "      <th>DATE</th>\n",
       "      <th>STORE_NBR</th>\n",
       "      <th>LYLTY_CARD_NBR</th>\n",
       "      <th>TXN_ID</th>\n",
       "      <th>PROD_NBR</th>\n",
       "      <th>PROD_NAME</th>\n",
       "      <th>PROD_QTY</th>\n",
       "      <th>TOT_SALES</th>\n",
       "    </tr>\n",
       "  </thead>\n",
       "  <tbody>\n",
       "    <tr>\n",
       "      <th>0</th>\n",
       "      <td>43390</td>\n",
       "      <td>1</td>\n",
       "      <td>1000</td>\n",
       "      <td>1</td>\n",
       "      <td>5</td>\n",
       "      <td>Natural Chip        Compny SeaSalt175g</td>\n",
       "      <td>2</td>\n",
       "      <td>6.0</td>\n",
       "    </tr>\n",
       "    <tr>\n",
       "      <th>1</th>\n",
       "      <td>43599</td>\n",
       "      <td>1</td>\n",
       "      <td>1307</td>\n",
       "      <td>348</td>\n",
       "      <td>66</td>\n",
       "      <td>CCs Nacho Cheese    175g</td>\n",
       "      <td>3</td>\n",
       "      <td>6.3</td>\n",
       "    </tr>\n",
       "    <tr>\n",
       "      <th>2</th>\n",
       "      <td>43605</td>\n",
       "      <td>1</td>\n",
       "      <td>1343</td>\n",
       "      <td>383</td>\n",
       "      <td>61</td>\n",
       "      <td>Smiths Crinkle Cut  Chips Chicken 170g</td>\n",
       "      <td>2</td>\n",
       "      <td>2.9</td>\n",
       "    </tr>\n",
       "    <tr>\n",
       "      <th>3</th>\n",
       "      <td>43329</td>\n",
       "      <td>2</td>\n",
       "      <td>2373</td>\n",
       "      <td>974</td>\n",
       "      <td>69</td>\n",
       "      <td>Smiths Chip Thinly  S/Cream&amp;Onion 175g</td>\n",
       "      <td>5</td>\n",
       "      <td>15.0</td>\n",
       "    </tr>\n",
       "    <tr>\n",
       "      <th>4</th>\n",
       "      <td>43330</td>\n",
       "      <td>2</td>\n",
       "      <td>2426</td>\n",
       "      <td>1038</td>\n",
       "      <td>108</td>\n",
       "      <td>Kettle Tortilla ChpsHny&amp;Jlpno Chili 150g</td>\n",
       "      <td>3</td>\n",
       "      <td>13.8</td>\n",
       "    </tr>\n",
       "  </tbody>\n",
       "</table>\n",
       "</div>"
      ],
      "text/plain": [
       "    DATE  STORE_NBR  LYLTY_CARD_NBR  TXN_ID  PROD_NBR  \\\n",
       "0  43390          1            1000       1         5   \n",
       "1  43599          1            1307     348        66   \n",
       "2  43605          1            1343     383        61   \n",
       "3  43329          2            2373     974        69   \n",
       "4  43330          2            2426    1038       108   \n",
       "\n",
       "                                  PROD_NAME  PROD_QTY  TOT_SALES  \n",
       "0    Natural Chip        Compny SeaSalt175g         2        6.0  \n",
       "1                  CCs Nacho Cheese    175g         3        6.3  \n",
       "2    Smiths Crinkle Cut  Chips Chicken 170g         2        2.9  \n",
       "3    Smiths Chip Thinly  S/Cream&Onion 175g         5       15.0  \n",
       "4  Kettle Tortilla ChpsHny&Jlpno Chili 150g         3       13.8  "
      ]
     },
     "execution_count": 10,
     "metadata": {},
     "output_type": "execute_result"
    }
   ],
   "source": [
    "transaction_data.head()"
   ]
  },
  {
   "cell_type": "markdown",
   "metadata": {},
   "source": [
    "There does not seem to be any `NULL` values for both datasets. We can, then, proceed in cleaning the data."
   ]
  },
  {
   "cell_type": "markdown",
   "metadata": {},
   "source": [
    "### Checking transaction dates\n",
    "Upon checking the transaction data above, notice that the `DATE` column is in integer format. Excel date starts in the year 1900 while default UNIX date starts at 1970. We take this into account when converting the `DATE` column from integer to datetime."
   ]
  },
  {
   "cell_type": "code",
   "execution_count": 11,
   "metadata": {},
   "outputs": [],
   "source": [
    "\"------OPTION 1-------------------------------------------------------------------------\"\n",
    "\n",
    "def date_from_Excel(ordinal, epoch_start=datetime(1899, 12, 31)):\n",
    "    \"\"\"\n",
    "    Create a function to convert the Excel dates to datetime format\n",
    "    \n",
    "    Returns:\n",
    "        Date in datetime format\n",
    "    \"\"\"\n",
    "    \n",
    "    if ordinal >= 60: #if later than Feb, we account for leap year\n",
    "        ordinal -= 1  #account for Excel leap year bug since 1900 is not a leap year\n",
    "        \n",
    "    return epoch_start + timedelta(days=ordinal)\n",
    "\n",
    "\"------OPTION 2-------------------------------------------------------------------------\"\n",
    "\n",
    "def date_convert_xlrd(ordinal):\n",
    "    \"\"\"\n",
    "    Using the xlrd module to create a function to convert the \n",
    "    Excel dates to datetime format\n",
    "    \n",
    "    NOTE: We can use datetime.date().isoformat() to return\n",
    "          the date as a string instead\n",
    "    \n",
    "    Returns:\n",
    "        Date in datetime format\n",
    "    \"\"\" \n",
    "    \n",
    "    return xlrd.xldate_as_datetime(ordinal, 0)"
   ]
  },
  {
   "cell_type": "code",
   "execution_count": 12,
   "metadata": {},
   "outputs": [
    {
     "data": {
      "text/html": [
       "<div>\n",
       "<style scoped>\n",
       "    .dataframe tbody tr th:only-of-type {\n",
       "        vertical-align: middle;\n",
       "    }\n",
       "\n",
       "    .dataframe tbody tr th {\n",
       "        vertical-align: top;\n",
       "    }\n",
       "\n",
       "    .dataframe thead th {\n",
       "        text-align: right;\n",
       "    }\n",
       "</style>\n",
       "<table border=\"1\" class=\"dataframe\">\n",
       "  <thead>\n",
       "    <tr style=\"text-align: right;\">\n",
       "      <th></th>\n",
       "      <th>DATE</th>\n",
       "      <th>STORE_NBR</th>\n",
       "      <th>LYLTY_CARD_NBR</th>\n",
       "      <th>TXN_ID</th>\n",
       "      <th>PROD_NBR</th>\n",
       "      <th>PROD_NAME</th>\n",
       "      <th>PROD_QTY</th>\n",
       "      <th>TOT_SALES</th>\n",
       "    </tr>\n",
       "  </thead>\n",
       "  <tbody>\n",
       "    <tr>\n",
       "      <th>0</th>\n",
       "      <td>2018-10-17</td>\n",
       "      <td>1</td>\n",
       "      <td>1000</td>\n",
       "      <td>1</td>\n",
       "      <td>5</td>\n",
       "      <td>Natural Chip        Compny SeaSalt175g</td>\n",
       "      <td>2</td>\n",
       "      <td>6.0</td>\n",
       "    </tr>\n",
       "    <tr>\n",
       "      <th>1</th>\n",
       "      <td>2019-05-14</td>\n",
       "      <td>1</td>\n",
       "      <td>1307</td>\n",
       "      <td>348</td>\n",
       "      <td>66</td>\n",
       "      <td>CCs Nacho Cheese    175g</td>\n",
       "      <td>3</td>\n",
       "      <td>6.3</td>\n",
       "    </tr>\n",
       "    <tr>\n",
       "      <th>2</th>\n",
       "      <td>2019-05-20</td>\n",
       "      <td>1</td>\n",
       "      <td>1343</td>\n",
       "      <td>383</td>\n",
       "      <td>61</td>\n",
       "      <td>Smiths Crinkle Cut  Chips Chicken 170g</td>\n",
       "      <td>2</td>\n",
       "      <td>2.9</td>\n",
       "    </tr>\n",
       "    <tr>\n",
       "      <th>3</th>\n",
       "      <td>2018-08-17</td>\n",
       "      <td>2</td>\n",
       "      <td>2373</td>\n",
       "      <td>974</td>\n",
       "      <td>69</td>\n",
       "      <td>Smiths Chip Thinly  S/Cream&amp;Onion 175g</td>\n",
       "      <td>5</td>\n",
       "      <td>15.0</td>\n",
       "    </tr>\n",
       "    <tr>\n",
       "      <th>4</th>\n",
       "      <td>2018-08-18</td>\n",
       "      <td>2</td>\n",
       "      <td>2426</td>\n",
       "      <td>1038</td>\n",
       "      <td>108</td>\n",
       "      <td>Kettle Tortilla ChpsHny&amp;Jlpno Chili 150g</td>\n",
       "      <td>3</td>\n",
       "      <td>13.8</td>\n",
       "    </tr>\n",
       "  </tbody>\n",
       "</table>\n",
       "</div>"
      ],
      "text/plain": [
       "        DATE  STORE_NBR  LYLTY_CARD_NBR  TXN_ID  PROD_NBR  \\\n",
       "0 2018-10-17          1            1000       1         5   \n",
       "1 2019-05-14          1            1307     348        66   \n",
       "2 2019-05-20          1            1343     383        61   \n",
       "3 2018-08-17          2            2373     974        69   \n",
       "4 2018-08-18          2            2426    1038       108   \n",
       "\n",
       "                                  PROD_NAME  PROD_QTY  TOT_SALES  \n",
       "0    Natural Chip        Compny SeaSalt175g         2        6.0  \n",
       "1                  CCs Nacho Cheese    175g         3        6.3  \n",
       "2    Smiths Crinkle Cut  Chips Chicken 170g         2        2.9  \n",
       "3    Smiths Chip Thinly  S/Cream&Onion 175g         5       15.0  \n",
       "4  Kettle Tortilla ChpsHny&Jlpno Chili 150g         3       13.8  "
      ]
     },
     "execution_count": 12,
     "metadata": {},
     "output_type": "execute_result"
    }
   ],
   "source": [
    "#apply the date_from_Excel() function to each row under the DATE column\n",
    "transaction_data['DATE'] = transaction_data['DATE'].apply(lambda dt: date_convert_xlrd(dt))\n",
    "transaction_data.head()"
   ]
  },
  {
   "cell_type": "code",
   "execution_count": 13,
   "metadata": {},
   "outputs": [
    {
     "name": "stdout",
     "output_type": "stream",
     "text": [
      "Minimum Date: 2018-07-01 00:00:00\n",
      "Maximum Date: 2019-06-30 00:00:00\n",
      "Total number of days: 365\n",
      "Unique date count: 364\n"
     ]
    }
   ],
   "source": [
    "max_date = transaction_data['DATE'].max()\n",
    "min_date = transaction_data['DATE'].min()\n",
    "num_days = (max_date-min_date).days+1\n",
    "unique_date = transaction_data['DATE'].unique().size\n",
    "\n",
    "print(f\"Minimum Date: {min_date}\\nMaximum Date: {max_date}\")\n",
    "print(f\"Total number of days: {num_days}\\nUnique date count: {unique_date}\")"
   ]
  },
  {
   "cell_type": "markdown",
   "metadata": {},
   "source": [
    "Further exploring the dates, we notice that the total number of days between the maximum and minimum dates is 365. However, only 364 unique dates are recorded in the transaction. This means, there must be a missing date.\n",
    "\n",
    "We can find this missing date by first creating the complete dates and joining this to the actual data."
   ]
  },
  {
   "cell_type": "code",
   "execution_count": 14,
   "metadata": {},
   "outputs": [
    {
     "data": {
      "text/html": [
       "<div>\n",
       "<style scoped>\n",
       "    .dataframe tbody tr th:only-of-type {\n",
       "        vertical-align: middle;\n",
       "    }\n",
       "\n",
       "    .dataframe tbody tr th {\n",
       "        vertical-align: top;\n",
       "    }\n",
       "\n",
       "    .dataframe thead th {\n",
       "        text-align: right;\n",
       "    }\n",
       "</style>\n",
       "<table border=\"1\" class=\"dataframe\">\n",
       "  <thead>\n",
       "    <tr style=\"text-align: right;\">\n",
       "      <th></th>\n",
       "      <th>DATE</th>\n",
       "      <th>TXN_COUNT</th>\n",
       "    </tr>\n",
       "  </thead>\n",
       "  <tbody>\n",
       "    <tr>\n",
       "      <th>177</th>\n",
       "      <td>2018-12-25</td>\n",
       "      <td>NaN</td>\n",
       "    </tr>\n",
       "  </tbody>\n",
       "</table>\n",
       "</div>"
      ],
      "text/plain": [
       "          DATE  TXN_COUNT\n",
       "177 2018-12-25        NaN"
      ]
     },
     "execution_count": 14,
     "metadata": {},
     "output_type": "execute_result"
    }
   ],
   "source": [
    "full_date = pd.DataFrame([(min_date + timedelta(days=i)) for i in range(num_days)],columns=['DATE'])\n",
    "trans_count_date = transaction_data.groupby('DATE').agg({\"TXN_ID\":\"count\"}).reset_index()\\\n",
    "                                   .rename(columns={'TXN_ID':'TXN_COUNT'})\n",
    "\n",
    "#LEFT JOIN actual data to generated dates\n",
    "merged_dates = full_date.merge(trans_count_date, how='left', on=['DATE'])\n",
    "merged_dates[merged_dates['TXN_COUNT'].isnull()]"
   ]
  },
  {
   "cell_type": "markdown",
   "metadata": {},
   "source": [
    "Visually, we can see a disconnected segment in the plot:"
   ]
  },
  {
   "cell_type": "code",
   "execution_count": 15,
   "metadata": {},
   "outputs": [
    {
     "data": {
      "image/png": "[encoded data removed]",
      "text/plain": [
       "<Figure size 720x288 with 1 Axes>"
      ]
     },
     "metadata": {
      "needs_background": "light"
     },
     "output_type": "display_data"
    }
   ],
   "source": [
    "plt.figure(figsize=(10,4))\n",
    "plt.plot(merged_dates.DATE, merged_dates.TXN_COUNT, color='black')\n",
    "plt.title('TRANSACTION COUNT PER DAY')\n",
    "plt.xlabel('DATE')\n",
    "plt.ylabel('COUNT')\n",
    "plt.grid()\n",
    "plt.show()"
   ]
  },
  {
   "cell_type": "markdown",
   "metadata": {},
   "source": [
    "Alternatively, we can use `sets` to find the missing date. This is relatively faster compared to the previous joining of dataframes."
   ]
  },
  {
   "cell_type": "code",
   "execution_count": 16,
   "metadata": {},
   "outputs": [
    {
     "data": {
      "text/plain": [
       "{'2018-12-25'}"
      ]
     },
     "execution_count": 16,
     "metadata": {},
     "output_type": "execute_result"
    }
   ],
   "source": [
    "full_date = [(min_date + timedelta(days=i)).date().isoformat() for i in range(num_days)]\n",
    "unique_date = transaction_data['DATE'].apply(lambda dt: dt.date().isoformat()).unique().tolist()\n",
    "\n",
    "#find values found in full_date but not in unique_date\n",
    "set(full_date) - set(unique_date)"
   ]
  },
  {
   "cell_type": "markdown",
   "metadata": {},
   "source": [
    "The data has no transactions recorded for 2018-12-25. It is probable that the store is closed during Christmas.\n",
    "\n",
    "We can further see this by plotting the number of sales per month within the given 1-year range (from July 2018 to June 2019)."
   ]
  },
  {
   "cell_type": "code",
   "execution_count": 17,
   "metadata": {},
   "outputs": [],
   "source": [
    "#create month and year from given dates\n",
    "transaction_data['YEAR'] = transaction_data['DATE'].dt.year\n",
    "transaction_data['MONTH_NAME'] = transaction_data['DATE'].dt.month_name()\n",
    "transaction_data['MONTH'] = transaction_data['DATE'].dt.month\n",
    "transaction_data['DAY'] = transaction_data['DATE'].dt.day\n",
    "\n",
    "sales_per_month = transaction_data.groupby(['YEAR','MONTH_NAME','MONTH'])\\\n",
    "                                  .agg({'TXN_ID':'count'}).reset_index()\\\n",
    "                                  .rename(columns={'TXN_ID':'COUNT'})\\\n",
    "                                  .sort_values(['YEAR','MONTH'])[['MONTH_NAME','COUNT']]\n",
    "\n",
    "sales_dec = transaction_data[transaction_data['MONTH_NAME']=='December'].groupby('DAY')\\\n",
    "                                  .agg({'TXN_ID':'count'}).reset_index()\\\n",
    "                                  .rename(columns={'TXN_ID':'COUNT'})\\\n",
    "                                  .sort_values('DAY')"
   ]
  },
  {
   "cell_type": "code",
   "execution_count": 18,
   "metadata": {},
   "outputs": [
    {
     "data": {
      "image/png": "[encoded data removed]",
      "text/plain": [
       "<Figure size 504x288 with 1 Axes>"
      ]
     },
     "metadata": {
      "needs_background": "light"
     },
     "output_type": "display_data"
    }
   ],
   "source": [
    "plt.figure(figsize=(7,4))\n",
    "\n",
    "max_sales = sales_per_month['COUNT'].max()\n",
    "g = sns.barplot(data=sales_per_month, x='MONTH_NAME', y='COUNT', color='black')\n",
    "g.set_xticklabels(g.get_xticklabels(), rotation=40)\n",
    "# plt.xticks(rotation=30)\n",
    "plt.axhline(y=max_sales, color='red', linestyle='--', linewidth=1, alpha=0.6)\n",
    "plt.title('MONTH SALES FROM JULY 2018 TO JUNE 2019')\n",
    "plt.show()"
   ]
  },
  {
   "cell_type": "code",
   "execution_count": 19,
   "metadata": {},
   "outputs": [
    {
     "data": {
      "image/png": "[encoded data removed]",
      "text/plain": [
       "<Figure size 720x288 with 1 Axes>"
      ]
     },
     "metadata": {
      "needs_background": "light"
     },
     "output_type": "display_data"
    }
   ],
   "source": [
    "plt.figure(figsize=(10,4))\n",
    "\n",
    "max_dec_sales = sales_dec['COUNT'].max()\n",
    "g = sns.barplot(data=sales_dec, x='DAY', y='COUNT', color='black')\n",
    "plt.axhline(y=max_dec_sales, color='red', linestyle='--', linewidth=1, alpha=0.6)\n",
    "plt.title('DECEMBER SALES')\n",
    "plt.show()"
   ]
  },
  {
   "cell_type": "markdown",
   "metadata": {},
   "source": [
    "To visualize this better, we add December 25 with 0 counts:"
   ]
  },
  {
   "cell_type": "code",
   "execution_count": 20,
   "metadata": {},
   "outputs": [
    {
     "data": {
      "image/png": "[encoded data removed]",
      "text/plain": [
       "<Figure size 720x288 with 1 Axes>"
      ]
     },
     "metadata": {
      "needs_background": "light"
     },
     "output_type": "display_data"
    }
   ],
   "source": [
    "plt.figure(figsize=(10,4))\n",
    "\n",
    "sales_dec.loc[len(sales_dec.index)] = [25, 0]\n",
    "g = sns.barplot(data=sales_dec.sort_values('DAY'), x='DAY', y='COUNT', color='black')\n",
    "plt.axhline(y=max_dec_sales, color='red', linestyle='--', linewidth=1, alpha=0.6)\n",
    "plt.title('DECEMBER SALES')\n",
    "plt.show()"
   ]
  },
  {
   "cell_type": "markdown",
   "metadata": {},
   "source": [
    "No sales are recorded for December 25 since the store is probably closed. Moreover, there seemed to be a spike in the number of sales on the days leading to Christmas -- most notably on December 22 to 24 with December 24 having the highest sales for the month."
   ]
  },
  {
   "cell_type": "markdown",
   "metadata": {},
   "source": [
    "### Separating and filtering` PROD_NAME`"
   ]
  },
  {
   "cell_type": "code",
   "execution_count": 21,
   "metadata": {
    "scrolled": true
   },
   "outputs": [
    {
     "name": "stdout",
     "output_type": "stream",
     "text": [
      "Unique products: 114\n"
     ]
    }
   ],
   "source": [
    "print(\"Unique products:\", transaction_data['PROD_NAME'].unique().size)"
   ]
  },
  {
   "cell_type": "code",
   "execution_count": 22,
   "metadata": {
    "scrolled": true
   },
   "outputs": [
    {
     "data": {
      "text/plain": [
       "array(['Natural Chip        Compny SeaSalt175g',\n",
       "       'CCs Nacho Cheese    175g',\n",
       "       'Smiths Crinkle Cut  Chips Chicken 170g',\n",
       "       'Smiths Chip Thinly  S/Cream&Onion 175g',\n",
       "       'Kettle Tortilla ChpsHny&Jlpno Chili 150g'], dtype=object)"
      ]
     },
     "execution_count": 22,
     "metadata": {},
     "output_type": "execute_result"
    }
   ],
   "source": [
    "transaction_data['PROD_NAME'].unique()[:5]"
   ]
  },
  {
   "cell_type": "markdown",
   "metadata": {},
   "source": [
    "We can separate the product names from the product sizes by using pandas `extract()` with this string pattern: `extract(r'(\\D+)(\\d+)')`. <u>This assumes that the product sizes are always found at the end of the product names</u>. However, in the case that it is not, we better extract only the values in the `PROD_NAME` column using `extract(r'(\\d+)')`"
   ]
  },
  {
   "cell_type": "code",
   "execution_count": 23,
   "metadata": {},
   "outputs": [],
   "source": [
    "#separate the product names from the product sizes\n",
    "transaction_data.loc[:, 'PROD_SIZE (g)'] = transaction_data['PROD_NAME'].str.extract(r'(\\d+)')\\\n",
    "                                                                        .rename(columns={0:'PROD_SIZE (g)'})\n",
    "\n",
    "#remove extra whitespaces for easier name searching (for some reason, strip() does not work)\n",
    "transaction_data.loc[:, 'PROD_NAME'] = transaction_data['PROD_NAME'].apply(lambda x: ' '.join(x.split()))\\\n",
    "                                                                    .str.replace(r'\\d+g','',case=False)\\\n",
    "                                                                    .str.replace(r'[&/?]','')\n",
    "\n",
    "transaction_data.loc[:, 'PROD_SIZE (g)'] = transaction_data['PROD_SIZE (g)'].astype(int)"
   ]
  },
  {
   "cell_type": "code",
   "execution_count": 24,
   "metadata": {},
   "outputs": [
    {
     "data": {
      "text/html": [
       "<div>\n",
       "<style scoped>\n",
       "    .dataframe tbody tr th:only-of-type {\n",
       "        vertical-align: middle;\n",
       "    }\n",
       "\n",
       "    .dataframe tbody tr th {\n",
       "        vertical-align: top;\n",
       "    }\n",
       "\n",
       "    .dataframe thead th {\n",
       "        text-align: right;\n",
       "    }\n",
       "</style>\n",
       "<table border=\"1\" class=\"dataframe\">\n",
       "  <thead>\n",
       "    <tr style=\"text-align: right;\">\n",
       "      <th></th>\n",
       "      <th>DATE</th>\n",
       "      <th>STORE_NBR</th>\n",
       "      <th>LYLTY_CARD_NBR</th>\n",
       "      <th>TXN_ID</th>\n",
       "      <th>PROD_NBR</th>\n",
       "      <th>PROD_NAME</th>\n",
       "      <th>PROD_QTY</th>\n",
       "      <th>TOT_SALES</th>\n",
       "      <th>YEAR</th>\n",
       "      <th>MONTH_NAME</th>\n",
       "      <th>MONTH</th>\n",
       "      <th>DAY</th>\n",
       "      <th>PROD_SIZE (g)</th>\n",
       "    </tr>\n",
       "  </thead>\n",
       "  <tbody>\n",
       "    <tr>\n",
       "      <th>0</th>\n",
       "      <td>2018-10-17</td>\n",
       "      <td>1</td>\n",
       "      <td>1000</td>\n",
       "      <td>1</td>\n",
       "      <td>5</td>\n",
       "      <td>Natural Chip Compny SeaSalt</td>\n",
       "      <td>2</td>\n",
       "      <td>6.0</td>\n",
       "      <td>2018</td>\n",
       "      <td>October</td>\n",
       "      <td>10</td>\n",
       "      <td>17</td>\n",
       "      <td>175</td>\n",
       "    </tr>\n",
       "    <tr>\n",
       "      <th>1</th>\n",
       "      <td>2019-05-14</td>\n",
       "      <td>1</td>\n",
       "      <td>1307</td>\n",
       "      <td>348</td>\n",
       "      <td>66</td>\n",
       "      <td>CCs Nacho Cheese</td>\n",
       "      <td>3</td>\n",
       "      <td>6.3</td>\n",
       "      <td>2019</td>\n",
       "      <td>May</td>\n",
       "      <td>5</td>\n",
       "      <td>14</td>\n",
       "      <td>175</td>\n",
       "    </tr>\n",
       "    <tr>\n",
       "      <th>2</th>\n",
       "      <td>2019-05-20</td>\n",
       "      <td>1</td>\n",
       "      <td>1343</td>\n",
       "      <td>383</td>\n",
       "      <td>61</td>\n",
       "      <td>Smiths Crinkle Cut Chips Chicken</td>\n",
       "      <td>2</td>\n",
       "      <td>2.9</td>\n",
       "      <td>2019</td>\n",
       "      <td>May</td>\n",
       "      <td>5</td>\n",
       "      <td>20</td>\n",
       "      <td>170</td>\n",
       "    </tr>\n",
       "    <tr>\n",
       "      <th>3</th>\n",
       "      <td>2018-08-17</td>\n",
       "      <td>2</td>\n",
       "      <td>2373</td>\n",
       "      <td>974</td>\n",
       "      <td>69</td>\n",
       "      <td>Smiths Chip Thinly SCreamOnion</td>\n",
       "      <td>5</td>\n",
       "      <td>15.0</td>\n",
       "      <td>2018</td>\n",
       "      <td>August</td>\n",
       "      <td>8</td>\n",
       "      <td>17</td>\n",
       "      <td>175</td>\n",
       "    </tr>\n",
       "    <tr>\n",
       "      <th>4</th>\n",
       "      <td>2018-08-18</td>\n",
       "      <td>2</td>\n",
       "      <td>2426</td>\n",
       "      <td>1038</td>\n",
       "      <td>108</td>\n",
       "      <td>Kettle Tortilla ChpsHnyJlpno Chili</td>\n",
       "      <td>3</td>\n",
       "      <td>13.8</td>\n",
       "      <td>2018</td>\n",
       "      <td>August</td>\n",
       "      <td>8</td>\n",
       "      <td>18</td>\n",
       "      <td>150</td>\n",
       "    </tr>\n",
       "  </tbody>\n",
       "</table>\n",
       "</div>"
      ],
      "text/plain": [
       "        DATE  STORE_NBR  LYLTY_CARD_NBR  TXN_ID  PROD_NBR  \\\n",
       "0 2018-10-17          1            1000       1         5   \n",
       "1 2019-05-14          1            1307     348        66   \n",
       "2 2019-05-20          1            1343     383        61   \n",
       "3 2018-08-17          2            2373     974        69   \n",
       "4 2018-08-18          2            2426    1038       108   \n",
       "\n",
       "                             PROD_NAME  PROD_QTY  TOT_SALES  YEAR MONTH_NAME  \\\n",
       "0          Natural Chip Compny SeaSalt         2        6.0  2018    October   \n",
       "1                    CCs Nacho Cheese          3        6.3  2019        May   \n",
       "2    Smiths Crinkle Cut Chips Chicken          2        2.9  2019        May   \n",
       "3      Smiths Chip Thinly SCreamOnion          5       15.0  2018     August   \n",
       "4  Kettle Tortilla ChpsHnyJlpno Chili          3       13.8  2018     August   \n",
       "\n",
       "   MONTH  DAY  PROD_SIZE (g)  \n",
       "0     10   17            175  \n",
       "1      5   14            175  \n",
       "2      5   20            170  \n",
       "3      8   17            175  \n",
       "4      8   18            150  "
      ]
     },
     "execution_count": 24,
     "metadata": {},
     "output_type": "execute_result"
    }
   ],
   "source": [
    "transaction_data.head()"
   ]
  },
  {
   "cell_type": "markdown",
   "metadata": {},
   "source": [
    "We can further explore the product name and see if there are products we would like to remove. We can use a WordCloud to easily visualize the words:"
   ]
  },
  {
   "cell_type": "code",
   "execution_count": 25,
   "metadata": {},
   "outputs": [
    {
     "data": {
      "image/png": "[encoded data removed]",
      "text/plain": [
       "<Figure size 360x360 with 1 Axes>"
      ]
     },
     "metadata": {
      "needs_background": "light"
     },
     "output_type": "display_data"
    }
   ],
   "source": [
    "prod_name_str = ''.join(transaction_data['PROD_NAME'].unique())\n",
    "wordcloud = WordCloud(width = 800, \n",
    "                      height = 800,\n",
    "                      background_color ='white',\n",
    "                      min_font_size = 10).generate(prod_name_str)\n",
    "\n",
    "# plot the WordCloud image                      \n",
    "plt.figure(figsize=(5,5), facecolor=None)\n",
    "plt.imshow(wordcloud)\n",
    "plt.axis(\"off\")\n",
    "plt.tight_layout(pad=0)\n",
    "plt.show()"
   ]
  },
  {
   "cell_type": "markdown",
   "metadata": {},
   "source": [
    "From the `PROD_NAME`, notice that there are products which are not chips, i.e. salsa. We will remove these products and separate the product sizes from the product names."
   ]
  },
  {
   "cell_type": "code",
   "execution_count": 26,
   "metadata": {},
   "outputs": [
    {
     "name": "stdout",
     "output_type": "stream",
     "text": [
      "Unique products: 105\n"
     ]
    }
   ],
   "source": [
    "#remove products with salsa since we only want chips\n",
    "chip_trns_data = transaction_data[~transaction_data['PROD_NAME'].str.contains('salsa', case=False)]\n",
    "print(f\"Unique products: {chip_trns_data['PROD_NAME'].unique().size}\")"
   ]
  },
  {
   "cell_type": "markdown",
   "metadata": {},
   "source": [
    "The brand of the chips are also included in the `PROD_NAME`. For this purpose, we assume that the first word of each product name corresponds to its brand name. We further separate this from the product name."
   ]
  },
  {
   "cell_type": "code",
   "execution_count": 27,
   "metadata": {
    "scrolled": true
   },
   "outputs": [
    {
     "data": {
      "text/plain": [
       "Kettle        41288\n",
       "Smiths        27390\n",
       "Pringles      25102\n",
       "Doritos       22041\n",
       "Thins         14075\n",
       "RRD           11894\n",
       "Infuzions     11057\n",
       "WW            10320\n",
       "Cobs           9693\n",
       "Tostitos       9471\n",
       "Twisties       9454\n",
       "Tyrrells       6442\n",
       "Grain          6272\n",
       "Natural        6050\n",
       "Cheezels       4603\n",
       "CCs            4551\n",
       "Red            4427\n",
       "Dorito         3185\n",
       "Infzns         3144\n",
       "Smith          2963\n",
       "Cheetos        2927\n",
       "Snbts          1576\n",
       "Burger         1564\n",
       "Woolworths     1516\n",
       "GrnWves        1468\n",
       "Sunbites       1432\n",
       "NCC            1419\n",
       "French         1418\n",
       "Name: BRAND_NAME, dtype: int64"
      ]
     },
     "execution_count": 27,
     "metadata": {},
     "output_type": "execute_result"
    }
   ],
   "source": [
    "chip_trns_data['BRAND_NAME'] = chip_trns_data['PROD_NAME'].str.extract(r'(^\\w+)')\n",
    "chip_trns_data['BRAND_NAME'].value_counts()"
   ]
  },
  {
   "cell_type": "code",
   "execution_count": 28,
   "metadata": {},
   "outputs": [
    {
     "data": {
      "text/html": [
       "<div>\n",
       "<style scoped>\n",
       "    .dataframe tbody tr th:only-of-type {\n",
       "        vertical-align: middle;\n",
       "    }\n",
       "\n",
       "    .dataframe tbody tr th {\n",
       "        vertical-align: top;\n",
       "    }\n",
       "\n",
       "    .dataframe thead th {\n",
       "        text-align: right;\n",
       "    }\n",
       "</style>\n",
       "<table border=\"1\" class=\"dataframe\">\n",
       "  <thead>\n",
       "    <tr style=\"text-align: right;\">\n",
       "      <th></th>\n",
       "      <th>DATE</th>\n",
       "      <th>STORE_NBR</th>\n",
       "      <th>LYLTY_CARD_NBR</th>\n",
       "      <th>TXN_ID</th>\n",
       "      <th>PROD_NBR</th>\n",
       "      <th>PROD_NAME</th>\n",
       "      <th>PROD_QTY</th>\n",
       "      <th>TOT_SALES</th>\n",
       "      <th>YEAR</th>\n",
       "      <th>MONTH_NAME</th>\n",
       "      <th>MONTH</th>\n",
       "      <th>DAY</th>\n",
       "      <th>PROD_SIZE (g)</th>\n",
       "      <th>BRAND_NAME</th>\n",
       "    </tr>\n",
       "  </thead>\n",
       "  <tbody>\n",
       "    <tr>\n",
       "      <th>211377</th>\n",
       "      <td>2018-08-27</td>\n",
       "      <td>153</td>\n",
       "      <td>153298</td>\n",
       "      <td>153150</td>\n",
       "      <td>30</td>\n",
       "      <td>Doritos Corn Chips Cheese Supreme</td>\n",
       "      <td>2</td>\n",
       "      <td>8.8</td>\n",
       "      <td>2018</td>\n",
       "      <td>August</td>\n",
       "      <td>8</td>\n",
       "      <td>27</td>\n",
       "      <td>170</td>\n",
       "      <td>Doritos</td>\n",
       "    </tr>\n",
       "    <tr>\n",
       "      <th>54592</th>\n",
       "      <td>2019-05-11</td>\n",
       "      <td>262</td>\n",
       "      <td>262215</td>\n",
       "      <td>262528</td>\n",
       "      <td>51</td>\n",
       "      <td>Doritos Mexicana</td>\n",
       "      <td>2</td>\n",
       "      <td>8.8</td>\n",
       "      <td>2019</td>\n",
       "      <td>May</td>\n",
       "      <td>5</td>\n",
       "      <td>11</td>\n",
       "      <td>170</td>\n",
       "      <td>Doritos</td>\n",
       "    </tr>\n",
       "    <tr>\n",
       "      <th>161495</th>\n",
       "      <td>2018-12-18</td>\n",
       "      <td>136</td>\n",
       "      <td>136485</td>\n",
       "      <td>138855</td>\n",
       "      <td>42</td>\n",
       "      <td>Doritos Corn Chip Mexican Jalapeno</td>\n",
       "      <td>1</td>\n",
       "      <td>3.9</td>\n",
       "      <td>2018</td>\n",
       "      <td>December</td>\n",
       "      <td>12</td>\n",
       "      <td>18</td>\n",
       "      <td>150</td>\n",
       "      <td>Doritos</td>\n",
       "    </tr>\n",
       "    <tr>\n",
       "      <th>205402</th>\n",
       "      <td>2019-06-10</td>\n",
       "      <td>26</td>\n",
       "      <td>26103</td>\n",
       "      <td>22717</td>\n",
       "      <td>47</td>\n",
       "      <td>Doritos Corn Chips Original</td>\n",
       "      <td>2</td>\n",
       "      <td>8.8</td>\n",
       "      <td>2019</td>\n",
       "      <td>June</td>\n",
       "      <td>6</td>\n",
       "      <td>10</td>\n",
       "      <td>170</td>\n",
       "      <td>Doritos</td>\n",
       "    </tr>\n",
       "    <tr>\n",
       "      <th>95147</th>\n",
       "      <td>2018-11-03</td>\n",
       "      <td>209</td>\n",
       "      <td>209245</td>\n",
       "      <td>208894</td>\n",
       "      <td>97</td>\n",
       "      <td>RRD Salt  Vinegar</td>\n",
       "      <td>2</td>\n",
       "      <td>6.0</td>\n",
       "      <td>2018</td>\n",
       "      <td>November</td>\n",
       "      <td>11</td>\n",
       "      <td>3</td>\n",
       "      <td>165</td>\n",
       "      <td>RRD</td>\n",
       "    </tr>\n",
       "  </tbody>\n",
       "</table>\n",
       "</div>"
      ],
      "text/plain": [
       "             DATE  STORE_NBR  LYLTY_CARD_NBR  TXN_ID  PROD_NBR  \\\n",
       "211377 2018-08-27        153          153298  153150        30   \n",
       "54592  2019-05-11        262          262215  262528        51   \n",
       "161495 2018-12-18        136          136485  138855        42   \n",
       "205402 2019-06-10         26           26103   22717        47   \n",
       "95147  2018-11-03        209          209245  208894        97   \n",
       "\n",
       "                                  PROD_NAME  PROD_QTY  TOT_SALES  YEAR  \\\n",
       "211377   Doritos Corn Chips Cheese Supreme          2        8.8  2018   \n",
       "54592                     Doritos Mexicana          2        8.8  2019   \n",
       "161495  Doritos Corn Chip Mexican Jalapeno          1        3.9  2018   \n",
       "205402         Doritos Corn Chips Original          2        8.8  2019   \n",
       "95147                    RRD Salt  Vinegar          2        6.0  2018   \n",
       "\n",
       "       MONTH_NAME  MONTH  DAY  PROD_SIZE (g) BRAND_NAME  \n",
       "211377     August      8   27            170    Doritos  \n",
       "54592         May      5   11            170    Doritos  \n",
       "161495   December     12   18            150    Doritos  \n",
       "205402       June      6   10            170    Doritos  \n",
       "95147    November     11    3            165        RRD  "
      ]
     },
     "execution_count": 28,
     "metadata": {},
     "output_type": "execute_result"
    }
   ],
   "source": [
    "chip_trns_data[(chip_trns_data['BRAND_NAME']=='Red')|(chip_trns_data['BRAND_NAME']=='RRD')\n",
    "               |(chip_trns_data['BRAND_NAME']=='Dorito')|(chip_trns_data['BRAND_NAME']=='Doritos')].sample(5)"
   ]
  },
  {
   "cell_type": "markdown",
   "metadata": {},
   "source": [
    "After a quick Google search, we see that *'Red'* and *'RRD'* both corresponds to *'Red Rock Deli'*. Moreover, both *'Dorito'* and *'Doritos'* exist when they are just the same. In these cases, we will need to combine them by replacing all *'Red'* with *'RRD'*, and replacing *'Dorito'* with *'Doritos'*. We also do this for other brand names as listed below:"
   ]
  },
  {
   "cell_type": "code",
   "execution_count": 29,
   "metadata": {},
   "outputs": [],
   "source": [
    "chip_trns_data['BRAND_NAME'] = chip_trns_data['BRAND_NAME'].str.replace('Red','RRD')\n",
    "chip_trns_data['BRAND_NAME'] = chip_trns_data['BRAND_NAME'].str.replace('WW','Woolworths')\n",
    "chip_trns_data['BRAND_NAME'] = chip_trns_data['BRAND_NAME'].str.replace('Snbts','Sunbites')\n",
    "chip_trns_data['BRAND_NAME'] = chip_trns_data['BRAND_NAME'].str.replace('Grain','GrnWves')\n",
    "chip_trns_data['BRAND_NAME'] = chip_trns_data['BRAND_NAME'].str.replace('NCC','Natural')\n",
    "chip_trns_data['BRAND_NAME'] = chip_trns_data['BRAND_NAME'].str.replace('Smith','Smiths')\n",
    "chip_trns_data['BRAND_NAME'] = chip_trns_data['BRAND_NAME'].str.replace('Infzns','Infuzions')\n",
    "\n",
    "#using replace to change Dorito to Doritos also changes rows with Doritos into Doritoss\n",
    "#for this, we get the index first for rows with Dorito and then apply replace()\n",
    "dorito_index = chip_trns_data[chip_trns_data['BRAND_NAME']=='Dorito'].index\n",
    "chip_trns_data.loc[dorito_index, 'BRAND_NAME'] = chip_trns_data['BRAND_NAME'].str.replace('Dorito','Doritos')"
   ]
  },
  {
   "cell_type": "code",
   "execution_count": 30,
   "metadata": {},
   "outputs": [
    {
     "data": {
      "text/html": [
       "<div>\n",
       "<style scoped>\n",
       "    .dataframe tbody tr th:only-of-type {\n",
       "        vertical-align: middle;\n",
       "    }\n",
       "\n",
       "    .dataframe tbody tr th {\n",
       "        vertical-align: top;\n",
       "    }\n",
       "\n",
       "    .dataframe thead th {\n",
       "        text-align: right;\n",
       "    }\n",
       "</style>\n",
       "<table border=\"1\" class=\"dataframe\">\n",
       "  <thead>\n",
       "    <tr style=\"text-align: right;\">\n",
       "      <th></th>\n",
       "      <th>DATE</th>\n",
       "      <th>STORE_NBR</th>\n",
       "      <th>LYLTY_CARD_NBR</th>\n",
       "      <th>TXN_ID</th>\n",
       "      <th>PROD_NBR</th>\n",
       "      <th>PROD_NAME</th>\n",
       "      <th>PROD_QTY</th>\n",
       "      <th>TOT_SALES</th>\n",
       "      <th>YEAR</th>\n",
       "      <th>MONTH_NAME</th>\n",
       "      <th>MONTH</th>\n",
       "      <th>DAY</th>\n",
       "      <th>PROD_SIZE (g)</th>\n",
       "      <th>BRAND_NAME</th>\n",
       "    </tr>\n",
       "  </thead>\n",
       "  <tbody>\n",
       "    <tr>\n",
       "      <th>154106</th>\n",
       "      <td>2019-02-22</td>\n",
       "      <td>43</td>\n",
       "      <td>43231</td>\n",
       "      <td>40208</td>\n",
       "      <td>13</td>\n",
       "      <td>Red Rock Deli Thai ChilliLime</td>\n",
       "      <td>2</td>\n",
       "      <td>5.4</td>\n",
       "      <td>2019</td>\n",
       "      <td>February</td>\n",
       "      <td>2</td>\n",
       "      <td>22</td>\n",
       "      <td>150</td>\n",
       "      <td>RRD</td>\n",
       "    </tr>\n",
       "  </tbody>\n",
       "</table>\n",
       "</div>"
      ],
      "text/plain": [
       "             DATE  STORE_NBR  LYLTY_CARD_NBR  TXN_ID  PROD_NBR  \\\n",
       "154106 2019-02-22         43           43231   40208        13   \n",
       "\n",
       "                             PROD_NAME  PROD_QTY  TOT_SALES  YEAR MONTH_NAME  \\\n",
       "154106  Red Rock Deli Thai ChilliLime          2        5.4  2019   February   \n",
       "\n",
       "        MONTH  DAY  PROD_SIZE (g) BRAND_NAME  \n",
       "154106      2   22            150        RRD  "
      ]
     },
     "execution_count": 30,
     "metadata": {},
     "output_type": "execute_result"
    }
   ],
   "source": [
    "chip_trns_data[chip_trns_data['TXN_ID']==40208]"
   ]
  },
  {
   "cell_type": "markdown",
   "metadata": {},
   "source": [
    "### Joining transaction and customer data\n",
    "Since customer data does not seem to have any `NULL` values as seen above, we can then proceed to joining the customer data to the transaction data."
   ]
  },
  {
   "cell_type": "code",
   "execution_count": 31,
   "metadata": {},
   "outputs": [],
   "source": [
    "chip_data_full = chip_trns_data.merge(customer_data, on='LYLTY_CARD_NBR', how='left')"
   ]
  },
  {
   "cell_type": "code",
   "execution_count": 32,
   "metadata": {},
   "outputs": [
    {
     "name": "stdout",
     "output_type": "stream",
     "text": [
      "<class 'pandas.core.frame.DataFrame'>\n",
      "Int64Index: 246742 entries, 0 to 246741\n",
      "Data columns (total 16 columns):\n",
      " #   Column            Non-Null Count   Dtype         \n",
      "---  ------            --------------   -----         \n",
      " 0   DATE              246742 non-null  datetime64[ns]\n",
      " 1   STORE_NBR         246742 non-null  int64         \n",
      " 2   LYLTY_CARD_NBR    246742 non-null  int64         \n",
      " 3   TXN_ID            246742 non-null  int64         \n",
      " 4   PROD_NBR          246742 non-null  int64         \n",
      " 5   PROD_NAME         246742 non-null  object        \n",
      " 6   PROD_QTY          246742 non-null  int64         \n",
      " 7   TOT_SALES         246742 non-null  float64       \n",
      " 8   YEAR              246742 non-null  int64         \n",
      " 9   MONTH_NAME        246742 non-null  object        \n",
      " 10  MONTH             246742 non-null  int64         \n",
      " 11  DAY               246742 non-null  int64         \n",
      " 12  PROD_SIZE (g)     246742 non-null  int32         \n",
      " 13  BRAND_NAME        246742 non-null  object        \n",
      " 14  LIFESTAGE         246742 non-null  object        \n",
      " 15  PREMIUM_CUSTOMER  246742 non-null  object        \n",
      "dtypes: datetime64[ns](1), float64(1), int32(1), int64(8), object(5)\n",
      "memory usage: 31.1+ MB\n"
     ]
    }
   ],
   "source": [
    "chip_data_full.info()"
   ]
  },
  {
   "cell_type": "markdown",
   "metadata": {},
   "source": [
    "No `NULL` values are present. Hence, we can proceed forward to data analysis."
   ]
  },
  {
   "cell_type": "markdown",
   "metadata": {},
   "source": [
    "### Finding Outliers"
   ]
  },
  {
   "cell_type": "code",
   "execution_count": 33,
   "metadata": {},
   "outputs": [
    {
     "data": {
      "text/html": [
       "<div>\n",
       "<style scoped>\n",
       "    .dataframe tbody tr th:only-of-type {\n",
       "        vertical-align: middle;\n",
       "    }\n",
       "\n",
       "    .dataframe tbody tr th {\n",
       "        vertical-align: top;\n",
       "    }\n",
       "\n",
       "    .dataframe thead th {\n",
       "        text-align: right;\n",
       "    }\n",
       "</style>\n",
       "<table border=\"1\" class=\"dataframe\">\n",
       "  <thead>\n",
       "    <tr style=\"text-align: right;\">\n",
       "      <th></th>\n",
       "      <th>STORE_NBR</th>\n",
       "      <th>LYLTY_CARD_NBR</th>\n",
       "      <th>TXN_ID</th>\n",
       "      <th>PROD_NBR</th>\n",
       "      <th>PROD_QTY</th>\n",
       "      <th>TOT_SALES</th>\n",
       "      <th>YEAR</th>\n",
       "      <th>MONTH</th>\n",
       "      <th>DAY</th>\n",
       "      <th>PROD_SIZE (g)</th>\n",
       "    </tr>\n",
       "  </thead>\n",
       "  <tbody>\n",
       "    <tr>\n",
       "      <th>count</th>\n",
       "      <td>246742.000000</td>\n",
       "      <td>2.467420e+05</td>\n",
       "      <td>2.467420e+05</td>\n",
       "      <td>246742.000000</td>\n",
       "      <td>246742.000000</td>\n",
       "      <td>246742.000000</td>\n",
       "      <td>246742.000000</td>\n",
       "      <td>246742.000000</td>\n",
       "      <td>246742.000000</td>\n",
       "      <td>246742.000000</td>\n",
       "    </tr>\n",
       "    <tr>\n",
       "      <th>mean</th>\n",
       "      <td>135.051098</td>\n",
       "      <td>1.355310e+05</td>\n",
       "      <td>1.351311e+05</td>\n",
       "      <td>56.351789</td>\n",
       "      <td>1.908062</td>\n",
       "      <td>7.321322</td>\n",
       "      <td>2018.495315</td>\n",
       "      <td>6.534972</td>\n",
       "      <td>15.714179</td>\n",
       "      <td>175.585178</td>\n",
       "    </tr>\n",
       "    <tr>\n",
       "      <th>std</th>\n",
       "      <td>76.787096</td>\n",
       "      <td>8.071528e+04</td>\n",
       "      <td>7.814772e+04</td>\n",
       "      <td>33.695428</td>\n",
       "      <td>0.659831</td>\n",
       "      <td>3.077828</td>\n",
       "      <td>0.499979</td>\n",
       "      <td>3.447867</td>\n",
       "      <td>8.775152</td>\n",
       "      <td>59.434727</td>\n",
       "    </tr>\n",
       "    <tr>\n",
       "      <th>min</th>\n",
       "      <td>1.000000</td>\n",
       "      <td>1.000000e+03</td>\n",
       "      <td>1.000000e+00</td>\n",
       "      <td>1.000000</td>\n",
       "      <td>1.000000</td>\n",
       "      <td>1.700000</td>\n",
       "      <td>2018.000000</td>\n",
       "      <td>1.000000</td>\n",
       "      <td>1.000000</td>\n",
       "      <td>70.000000</td>\n",
       "    </tr>\n",
       "    <tr>\n",
       "      <th>25%</th>\n",
       "      <td>70.000000</td>\n",
       "      <td>7.001500e+04</td>\n",
       "      <td>6.756925e+04</td>\n",
       "      <td>26.000000</td>\n",
       "      <td>2.000000</td>\n",
       "      <td>5.800000</td>\n",
       "      <td>2018.000000</td>\n",
       "      <td>4.000000</td>\n",
       "      <td>8.000000</td>\n",
       "      <td>150.000000</td>\n",
       "    </tr>\n",
       "    <tr>\n",
       "      <th>50%</th>\n",
       "      <td>130.000000</td>\n",
       "      <td>1.303670e+05</td>\n",
       "      <td>1.351830e+05</td>\n",
       "      <td>53.000000</td>\n",
       "      <td>2.000000</td>\n",
       "      <td>7.400000</td>\n",
       "      <td>2018.000000</td>\n",
       "      <td>7.000000</td>\n",
       "      <td>16.000000</td>\n",
       "      <td>170.000000</td>\n",
       "    </tr>\n",
       "    <tr>\n",
       "      <th>75%</th>\n",
       "      <td>203.000000</td>\n",
       "      <td>2.030840e+05</td>\n",
       "      <td>2.026538e+05</td>\n",
       "      <td>87.000000</td>\n",
       "      <td>2.000000</td>\n",
       "      <td>8.800000</td>\n",
       "      <td>2019.000000</td>\n",
       "      <td>10.000000</td>\n",
       "      <td>23.000000</td>\n",
       "      <td>175.000000</td>\n",
       "    </tr>\n",
       "    <tr>\n",
       "      <th>max</th>\n",
       "      <td>272.000000</td>\n",
       "      <td>2.373711e+06</td>\n",
       "      <td>2.415841e+06</td>\n",
       "      <td>114.000000</td>\n",
       "      <td>200.000000</td>\n",
       "      <td>650.000000</td>\n",
       "      <td>2019.000000</td>\n",
       "      <td>12.000000</td>\n",
       "      <td>31.000000</td>\n",
       "      <td>380.000000</td>\n",
       "    </tr>\n",
       "  </tbody>\n",
       "</table>\n",
       "</div>"
      ],
      "text/plain": [
       "           STORE_NBR  LYLTY_CARD_NBR        TXN_ID       PROD_NBR  \\\n",
       "count  246742.000000    2.467420e+05  2.467420e+05  246742.000000   \n",
       "mean      135.051098    1.355310e+05  1.351311e+05      56.351789   \n",
       "std        76.787096    8.071528e+04  7.814772e+04      33.695428   \n",
       "min         1.000000    1.000000e+03  1.000000e+00       1.000000   \n",
       "25%        70.000000    7.001500e+04  6.756925e+04      26.000000   \n",
       "50%       130.000000    1.303670e+05  1.351830e+05      53.000000   \n",
       "75%       203.000000    2.030840e+05  2.026538e+05      87.000000   \n",
       "max       272.000000    2.373711e+06  2.415841e+06     114.000000   \n",
       "\n",
       "            PROD_QTY      TOT_SALES           YEAR          MONTH  \\\n",
       "count  246742.000000  246742.000000  246742.000000  246742.000000   \n",
       "mean        1.908062       7.321322    2018.495315       6.534972   \n",
       "std         0.659831       3.077828       0.499979       3.447867   \n",
       "min         1.000000       1.700000    2018.000000       1.000000   \n",
       "25%         2.000000       5.800000    2018.000000       4.000000   \n",
       "50%         2.000000       7.400000    2018.000000       7.000000   \n",
       "75%         2.000000       8.800000    2019.000000      10.000000   \n",
       "max       200.000000     650.000000    2019.000000      12.000000   \n",
       "\n",
       "                 DAY  PROD_SIZE (g)  \n",
       "count  246742.000000  246742.000000  \n",
       "mean       15.714179     175.585178  \n",
       "std         8.775152      59.434727  \n",
       "min         1.000000      70.000000  \n",
       "25%         8.000000     150.000000  \n",
       "50%        16.000000     170.000000  \n",
       "75%        23.000000     175.000000  \n",
       "max        31.000000     380.000000  "
      ]
     },
     "execution_count": 33,
     "metadata": {},
     "output_type": "execute_result"
    }
   ],
   "source": [
    "chip_data_full.describe()"
   ]
  },
  {
   "cell_type": "code",
   "execution_count": 34,
   "metadata": {},
   "outputs": [
    {
     "data": {
      "image/png": "[encoded data removed]",
      "text/plain": [
       "<Figure size 360x360 with 1 Axes>"
      ]
     },
     "metadata": {
      "needs_background": "light"
     },
     "output_type": "display_data"
    }
   ],
   "source": [
    "x = chip_data_full['PROD_QTY']\n",
    "y = chip_data_full['TOT_SALES']\n",
    "\n",
    "plt.figure(figsize=(5,5))\n",
    "plt.scatter(x,y, color='black')\n",
    "plt.xlabel('PROD_QTY')\n",
    "plt.ylabel('TOT_SALES')\n",
    "plt.title('PRODUCT QUANTITY vs TOTAL SALES')\n",
    "plt.show()"
   ]
  },
  {
   "cell_type": "markdown",
   "metadata": {},
   "source": [
    "There seemed to be an outlier since looking at `PROD_QTY`, the maximum value is at 200 with 75% of the data having values below 2 and a mean of 1.9. `TOT_SALES` also have a large maximum at 650 with only a mean of 7.32. Similarly, looking at the scatter plot for `PROD_QTY` and `TOT_SALES`, most data points are located at the lower-left corner of the graph.\n",
    "\n",
    "We, then, check this outlier:"
   ]
  },
  {
   "cell_type": "code",
   "execution_count": 35,
   "metadata": {},
   "outputs": [
    {
     "data": {
      "text/html": [
       "<div>\n",
       "<style scoped>\n",
       "    .dataframe tbody tr th:only-of-type {\n",
       "        vertical-align: middle;\n",
       "    }\n",
       "\n",
       "    .dataframe tbody tr th {\n",
       "        vertical-align: top;\n",
       "    }\n",
       "\n",
       "    .dataframe thead th {\n",
       "        text-align: right;\n",
       "    }\n",
       "</style>\n",
       "<table border=\"1\" class=\"dataframe\">\n",
       "  <thead>\n",
       "    <tr style=\"text-align: right;\">\n",
       "      <th></th>\n",
       "      <th>DATE</th>\n",
       "      <th>STORE_NBR</th>\n",
       "      <th>LYLTY_CARD_NBR</th>\n",
       "      <th>TXN_ID</th>\n",
       "      <th>PROD_NBR</th>\n",
       "      <th>PROD_NAME</th>\n",
       "      <th>PROD_QTY</th>\n",
       "      <th>TOT_SALES</th>\n",
       "      <th>YEAR</th>\n",
       "      <th>MONTH_NAME</th>\n",
       "      <th>MONTH</th>\n",
       "      <th>DAY</th>\n",
       "      <th>PROD_SIZE (g)</th>\n",
       "      <th>BRAND_NAME</th>\n",
       "      <th>LIFESTAGE</th>\n",
       "      <th>PREMIUM_CUSTOMER</th>\n",
       "    </tr>\n",
       "  </thead>\n",
       "  <tbody>\n",
       "    <tr>\n",
       "      <th>64955</th>\n",
       "      <td>2018-08-19</td>\n",
       "      <td>226</td>\n",
       "      <td>226000</td>\n",
       "      <td>226201</td>\n",
       "      <td>4</td>\n",
       "      <td>Dorito Corn Chp Supreme</td>\n",
       "      <td>200</td>\n",
       "      <td>650.0</td>\n",
       "      <td>2018</td>\n",
       "      <td>August</td>\n",
       "      <td>8</td>\n",
       "      <td>19</td>\n",
       "      <td>380</td>\n",
       "      <td>Doritos</td>\n",
       "      <td>OLDER FAMILIES</td>\n",
       "      <td>Premium</td>\n",
       "    </tr>\n",
       "    <tr>\n",
       "      <th>64956</th>\n",
       "      <td>2019-05-20</td>\n",
       "      <td>226</td>\n",
       "      <td>226000</td>\n",
       "      <td>226210</td>\n",
       "      <td>4</td>\n",
       "      <td>Dorito Corn Chp Supreme</td>\n",
       "      <td>200</td>\n",
       "      <td>650.0</td>\n",
       "      <td>2019</td>\n",
       "      <td>May</td>\n",
       "      <td>5</td>\n",
       "      <td>20</td>\n",
       "      <td>380</td>\n",
       "      <td>Doritos</td>\n",
       "      <td>OLDER FAMILIES</td>\n",
       "      <td>Premium</td>\n",
       "    </tr>\n",
       "  </tbody>\n",
       "</table>\n",
       "</div>"
      ],
      "text/plain": [
       "            DATE  STORE_NBR  LYLTY_CARD_NBR  TXN_ID  PROD_NBR  \\\n",
       "64955 2018-08-19        226          226000  226201         4   \n",
       "64956 2019-05-20        226          226000  226210         4   \n",
       "\n",
       "                      PROD_NAME  PROD_QTY  TOT_SALES  YEAR MONTH_NAME  MONTH  \\\n",
       "64955  Dorito Corn Chp Supreme        200      650.0  2018     August      8   \n",
       "64956  Dorito Corn Chp Supreme        200      650.0  2019        May      5   \n",
       "\n",
       "       DAY  PROD_SIZE (g) BRAND_NAME       LIFESTAGE PREMIUM_CUSTOMER  \n",
       "64955   19            380    Doritos  OLDER FAMILIES          Premium  \n",
       "64956   20            380    Doritos  OLDER FAMILIES          Premium  "
      ]
     },
     "execution_count": 35,
     "metadata": {},
     "output_type": "execute_result"
    }
   ],
   "source": [
    "chip_data_full[chip_data_full['PROD_QTY']==200]"
   ]
  },
  {
   "cell_type": "markdown",
   "metadata": {},
   "source": [
    "Check if customer 226000 made other purchases aside from the above:"
   ]
  },
  {
   "cell_type": "code",
   "execution_count": 36,
   "metadata": {},
   "outputs": [
    {
     "data": {
      "text/html": [
       "<div>\n",
       "<style scoped>\n",
       "    .dataframe tbody tr th:only-of-type {\n",
       "        vertical-align: middle;\n",
       "    }\n",
       "\n",
       "    .dataframe tbody tr th {\n",
       "        vertical-align: top;\n",
       "    }\n",
       "\n",
       "    .dataframe thead th {\n",
       "        text-align: right;\n",
       "    }\n",
       "</style>\n",
       "<table border=\"1\" class=\"dataframe\">\n",
       "  <thead>\n",
       "    <tr style=\"text-align: right;\">\n",
       "      <th></th>\n",
       "      <th>DATE</th>\n",
       "      <th>STORE_NBR</th>\n",
       "      <th>LYLTY_CARD_NBR</th>\n",
       "      <th>TXN_ID</th>\n",
       "      <th>PROD_NBR</th>\n",
       "      <th>PROD_NAME</th>\n",
       "      <th>PROD_QTY</th>\n",
       "      <th>TOT_SALES</th>\n",
       "      <th>YEAR</th>\n",
       "      <th>MONTH_NAME</th>\n",
       "      <th>MONTH</th>\n",
       "      <th>DAY</th>\n",
       "      <th>PROD_SIZE (g)</th>\n",
       "      <th>BRAND_NAME</th>\n",
       "      <th>LIFESTAGE</th>\n",
       "      <th>PREMIUM_CUSTOMER</th>\n",
       "    </tr>\n",
       "  </thead>\n",
       "  <tbody>\n",
       "    <tr>\n",
       "      <th>64955</th>\n",
       "      <td>2018-08-19</td>\n",
       "      <td>226</td>\n",
       "      <td>226000</td>\n",
       "      <td>226201</td>\n",
       "      <td>4</td>\n",
       "      <td>Dorito Corn Chp Supreme</td>\n",
       "      <td>200</td>\n",
       "      <td>650.0</td>\n",
       "      <td>2018</td>\n",
       "      <td>August</td>\n",
       "      <td>8</td>\n",
       "      <td>19</td>\n",
       "      <td>380</td>\n",
       "      <td>Doritos</td>\n",
       "      <td>OLDER FAMILIES</td>\n",
       "      <td>Premium</td>\n",
       "    </tr>\n",
       "    <tr>\n",
       "      <th>64956</th>\n",
       "      <td>2019-05-20</td>\n",
       "      <td>226</td>\n",
       "      <td>226000</td>\n",
       "      <td>226210</td>\n",
       "      <td>4</td>\n",
       "      <td>Dorito Corn Chp Supreme</td>\n",
       "      <td>200</td>\n",
       "      <td>650.0</td>\n",
       "      <td>2019</td>\n",
       "      <td>May</td>\n",
       "      <td>5</td>\n",
       "      <td>20</td>\n",
       "      <td>380</td>\n",
       "      <td>Doritos</td>\n",
       "      <td>OLDER FAMILIES</td>\n",
       "      <td>Premium</td>\n",
       "    </tr>\n",
       "  </tbody>\n",
       "</table>\n",
       "</div>"
      ],
      "text/plain": [
       "            DATE  STORE_NBR  LYLTY_CARD_NBR  TXN_ID  PROD_NBR  \\\n",
       "64955 2018-08-19        226          226000  226201         4   \n",
       "64956 2019-05-20        226          226000  226210         4   \n",
       "\n",
       "                      PROD_NAME  PROD_QTY  TOT_SALES  YEAR MONTH_NAME  MONTH  \\\n",
       "64955  Dorito Corn Chp Supreme        200      650.0  2018     August      8   \n",
       "64956  Dorito Corn Chp Supreme        200      650.0  2019        May      5   \n",
       "\n",
       "       DAY  PROD_SIZE (g) BRAND_NAME       LIFESTAGE PREMIUM_CUSTOMER  \n",
       "64955   19            380    Doritos  OLDER FAMILIES          Premium  \n",
       "64956   20            380    Doritos  OLDER FAMILIES          Premium  "
      ]
     },
     "execution_count": 36,
     "metadata": {},
     "output_type": "execute_result"
    }
   ],
   "source": [
    "chip_data_full[chip_data_full['LYLTY_CARD_NBR']==226000]"
   ]
  },
  {
   "cell_type": "markdown",
   "metadata": {},
   "source": [
    "The purchase of 200 pieces of chips (specifically, Dorito Corn Chp Supreme) was made by the same account on 2 separate occasions. This might be a one-time bulk purchase per year for customer with `LYLTY_CARD_NBR = 226000`. Since these are only 2-time transactions from the same customer, we can remove this data from our dataset:"
   ]
  },
  {
   "cell_type": "code",
   "execution_count": 37,
   "metadata": {},
   "outputs": [
    {
     "data": {
      "text/plain": [
       "(246740, 16)"
      ]
     },
     "execution_count": 37,
     "metadata": {},
     "output_type": "execute_result"
    }
   ],
   "source": [
    "#dataset without the above outliers\n",
    "chip_data_full = chip_data_full[chip_data_full['LYLTY_CARD_NBR'] != 226000]\n",
    "chip_data_full.shape"
   ]
  },
  {
   "cell_type": "code",
   "execution_count": 38,
   "metadata": {},
   "outputs": [
    {
     "data": {
      "text/html": [
       "<div>\n",
       "<style scoped>\n",
       "    .dataframe tbody tr th:only-of-type {\n",
       "        vertical-align: middle;\n",
       "    }\n",
       "\n",
       "    .dataframe tbody tr th {\n",
       "        vertical-align: top;\n",
       "    }\n",
       "\n",
       "    .dataframe thead th {\n",
       "        text-align: right;\n",
       "    }\n",
       "</style>\n",
       "<table border=\"1\" class=\"dataframe\">\n",
       "  <thead>\n",
       "    <tr style=\"text-align: right;\">\n",
       "      <th></th>\n",
       "      <th>STORE_NBR</th>\n",
       "      <th>LYLTY_CARD_NBR</th>\n",
       "      <th>TXN_ID</th>\n",
       "      <th>PROD_NBR</th>\n",
       "      <th>PROD_QTY</th>\n",
       "      <th>TOT_SALES</th>\n",
       "      <th>YEAR</th>\n",
       "      <th>MONTH</th>\n",
       "      <th>DAY</th>\n",
       "      <th>PROD_SIZE (g)</th>\n",
       "    </tr>\n",
       "  </thead>\n",
       "  <tbody>\n",
       "    <tr>\n",
       "      <th>count</th>\n",
       "      <td>246740.000000</td>\n",
       "      <td>2.467400e+05</td>\n",
       "      <td>2.467400e+05</td>\n",
       "      <td>246740.000000</td>\n",
       "      <td>246740.000000</td>\n",
       "      <td>246740.000000</td>\n",
       "      <td>246740.000000</td>\n",
       "      <td>246740.000000</td>\n",
       "      <td>246740.000000</td>\n",
       "      <td>246740.000000</td>\n",
       "    </tr>\n",
       "    <tr>\n",
       "      <th>mean</th>\n",
       "      <td>135.050361</td>\n",
       "      <td>1.355303e+05</td>\n",
       "      <td>1.351304e+05</td>\n",
       "      <td>56.352213</td>\n",
       "      <td>1.906456</td>\n",
       "      <td>7.316113</td>\n",
       "      <td>2018.495315</td>\n",
       "      <td>6.534972</td>\n",
       "      <td>15.714148</td>\n",
       "      <td>175.583521</td>\n",
       "    </tr>\n",
       "    <tr>\n",
       "      <th>std</th>\n",
       "      <td>76.786971</td>\n",
       "      <td>8.071520e+04</td>\n",
       "      <td>7.814760e+04</td>\n",
       "      <td>33.695235</td>\n",
       "      <td>0.342499</td>\n",
       "      <td>2.474897</td>\n",
       "      <td>0.499979</td>\n",
       "      <td>3.447878</td>\n",
       "      <td>8.775181</td>\n",
       "      <td>59.432118</td>\n",
       "    </tr>\n",
       "    <tr>\n",
       "      <th>min</th>\n",
       "      <td>1.000000</td>\n",
       "      <td>1.000000e+03</td>\n",
       "      <td>1.000000e+00</td>\n",
       "      <td>1.000000</td>\n",
       "      <td>1.000000</td>\n",
       "      <td>1.700000</td>\n",
       "      <td>2018.000000</td>\n",
       "      <td>1.000000</td>\n",
       "      <td>1.000000</td>\n",
       "      <td>70.000000</td>\n",
       "    </tr>\n",
       "    <tr>\n",
       "      <th>25%</th>\n",
       "      <td>70.000000</td>\n",
       "      <td>7.001500e+04</td>\n",
       "      <td>6.756875e+04</td>\n",
       "      <td>26.000000</td>\n",
       "      <td>2.000000</td>\n",
       "      <td>5.800000</td>\n",
       "      <td>2018.000000</td>\n",
       "      <td>4.000000</td>\n",
       "      <td>8.000000</td>\n",
       "      <td>150.000000</td>\n",
       "    </tr>\n",
       "    <tr>\n",
       "      <th>50%</th>\n",
       "      <td>130.000000</td>\n",
       "      <td>1.303670e+05</td>\n",
       "      <td>1.351815e+05</td>\n",
       "      <td>53.000000</td>\n",
       "      <td>2.000000</td>\n",
       "      <td>7.400000</td>\n",
       "      <td>2018.000000</td>\n",
       "      <td>7.000000</td>\n",
       "      <td>16.000000</td>\n",
       "      <td>170.000000</td>\n",
       "    </tr>\n",
       "    <tr>\n",
       "      <th>75%</th>\n",
       "      <td>203.000000</td>\n",
       "      <td>2.030832e+05</td>\n",
       "      <td>2.026522e+05</td>\n",
       "      <td>87.000000</td>\n",
       "      <td>2.000000</td>\n",
       "      <td>8.800000</td>\n",
       "      <td>2019.000000</td>\n",
       "      <td>10.000000</td>\n",
       "      <td>23.000000</td>\n",
       "      <td>175.000000</td>\n",
       "    </tr>\n",
       "    <tr>\n",
       "      <th>max</th>\n",
       "      <td>272.000000</td>\n",
       "      <td>2.373711e+06</td>\n",
       "      <td>2.415841e+06</td>\n",
       "      <td>114.000000</td>\n",
       "      <td>5.000000</td>\n",
       "      <td>29.500000</td>\n",
       "      <td>2019.000000</td>\n",
       "      <td>12.000000</td>\n",
       "      <td>31.000000</td>\n",
       "      <td>380.000000</td>\n",
       "    </tr>\n",
       "  </tbody>\n",
       "</table>\n",
       "</div>"
      ],
      "text/plain": [
       "           STORE_NBR  LYLTY_CARD_NBR        TXN_ID       PROD_NBR  \\\n",
       "count  246740.000000    2.467400e+05  2.467400e+05  246740.000000   \n",
       "mean      135.050361    1.355303e+05  1.351304e+05      56.352213   \n",
       "std        76.786971    8.071520e+04  7.814760e+04      33.695235   \n",
       "min         1.000000    1.000000e+03  1.000000e+00       1.000000   \n",
       "25%        70.000000    7.001500e+04  6.756875e+04      26.000000   \n",
       "50%       130.000000    1.303670e+05  1.351815e+05      53.000000   \n",
       "75%       203.000000    2.030832e+05  2.026522e+05      87.000000   \n",
       "max       272.000000    2.373711e+06  2.415841e+06     114.000000   \n",
       "\n",
       "            PROD_QTY      TOT_SALES           YEAR          MONTH  \\\n",
       "count  246740.000000  246740.000000  246740.000000  246740.000000   \n",
       "mean        1.906456       7.316113    2018.495315       6.534972   \n",
       "std         0.342499       2.474897       0.499979       3.447878   \n",
       "min         1.000000       1.700000    2018.000000       1.000000   \n",
       "25%         2.000000       5.800000    2018.000000       4.000000   \n",
       "50%         2.000000       7.400000    2018.000000       7.000000   \n",
       "75%         2.000000       8.800000    2019.000000      10.000000   \n",
       "max         5.000000      29.500000    2019.000000      12.000000   \n",
       "\n",
       "                 DAY  PROD_SIZE (g)  \n",
       "count  246740.000000  246740.000000  \n",
       "mean       15.714148     175.583521  \n",
       "std         8.775181      59.432118  \n",
       "min         1.000000      70.000000  \n",
       "25%         8.000000     150.000000  \n",
       "50%        16.000000     170.000000  \n",
       "75%        23.000000     175.000000  \n",
       "max        31.000000     380.000000  "
      ]
     },
     "execution_count": 38,
     "metadata": {},
     "output_type": "execute_result"
    }
   ],
   "source": [
    "chip_data_full.describe()"
   ]
  },
  {
   "cell_type": "code",
   "execution_count": 39,
   "metadata": {},
   "outputs": [
    {
     "data": {
      "image/png": "[encoded data removed]",
      "text/plain": [
       "<Figure size 360x360 with 1 Axes>"
      ]
     },
     "metadata": {
      "needs_background": "light"
     },
     "output_type": "display_data"
    }
   ],
   "source": [
    "x = chip_data_full['PROD_QTY']\n",
    "y = chip_data_full['TOT_SALES']\n",
    "\n",
    "plt.figure(figsize=(5,5))\n",
    "plt.scatter(x,y,color='black')\n",
    "plt.xlabel('PROD_QTY')\n",
    "plt.ylabel('TOT_SALES')\n",
    "plt.title('PRODUCT QUANTITY vs TOTAL SALES')\n",
    "plt.show()"
   ]
  },
  {
   "cell_type": "markdown",
   "metadata": {},
   "source": [
    "The range of values seem to be closer now to each other."
   ]
  },
  {
   "cell_type": "markdown",
   "metadata": {},
   "source": [
    "## II. Data Analysis\n",
    "We will now try to analyze the puchasing behavior of the customer using the following metrics:\n",
    "- Which type of customer spends the most on chips\n",
    "- Number of customers per segment\n",
    "- Number of chips sold per segment\n",
    "- Average price spent per segment\n",
    "- Average size of chips sold per segment (determine if chip size is relative to purchase)\n",
    "- Type/brand of chip that are mostly sold per segment"
   ]
  },
  {
   "cell_type": "markdown",
   "metadata": {},
   "source": [
    "### Number of chips sold\n",
    "What chips sold the best? What chips were preferred per customer segment?"
   ]
  },
  {
   "cell_type": "code",
   "execution_count": 40,
   "metadata": {},
   "outputs": [],
   "source": [
    "chip_sales = chip_data_full.groupby(['PROD_NAME','PROD_SIZE (g)'])\\\n",
    "                           .agg({'PROD_QTY':'sum','TOT_SALES':'sum'})\\\n",
    "                           .reset_index()\\\n",
    "                           .rename(columns={'PROD_QTY':'QTY_SOLD'})\\\n",
    "\n",
    "chip_sales['PRICE_PER_UNIT'] = chip_sales['TOT_SALES']/chip_sales['QTY_SOLD']"
   ]
  },
  {
   "cell_type": "code",
   "execution_count": 41,
   "metadata": {},
   "outputs": [
    {
     "data": {
      "text/html": [
       "<div>\n",
       "<style scoped>\n",
       "    .dataframe tbody tr th:only-of-type {\n",
       "        vertical-align: middle;\n",
       "    }\n",
       "\n",
       "    .dataframe tbody tr th {\n",
       "        vertical-align: top;\n",
       "    }\n",
       "\n",
       "    .dataframe thead th {\n",
       "        text-align: right;\n",
       "    }\n",
       "</style>\n",
       "<table border=\"1\" class=\"dataframe\">\n",
       "  <thead>\n",
       "    <tr style=\"text-align: right;\">\n",
       "      <th></th>\n",
       "      <th>PROD_NAME</th>\n",
       "      <th>PROD_SIZE (g)</th>\n",
       "      <th>QTY_SOLD</th>\n",
       "      <th>TOT_SALES</th>\n",
       "      <th>PRICE_PER_UNIT</th>\n",
       "    </tr>\n",
       "  </thead>\n",
       "  <tbody>\n",
       "    <tr>\n",
       "      <th>31</th>\n",
       "      <td>Kettle Mozzarella Basil  Pesto</td>\n",
       "      <td>175</td>\n",
       "      <td>6381</td>\n",
       "      <td>34457.4</td>\n",
       "      <td>5.4</td>\n",
       "    </tr>\n",
       "    <tr>\n",
       "      <th>40</th>\n",
       "      <td>Kettle Tortilla ChpsHnyJlpno Chili</td>\n",
       "      <td>150</td>\n",
       "      <td>6309</td>\n",
       "      <td>29021.4</td>\n",
       "      <td>4.6</td>\n",
       "    </tr>\n",
       "    <tr>\n",
       "      <th>8</th>\n",
       "      <td>Cobs Popd Sea Salt Chips</td>\n",
       "      <td>110</td>\n",
       "      <td>6277</td>\n",
       "      <td>23852.6</td>\n",
       "      <td>3.8</td>\n",
       "    </tr>\n",
       "    <tr>\n",
       "      <th>10</th>\n",
       "      <td>Cobs Popd SwtChlli SrCream Chips</td>\n",
       "      <td>110</td>\n",
       "      <td>6256</td>\n",
       "      <td>23772.8</td>\n",
       "      <td>3.8</td>\n",
       "    </tr>\n",
       "    <tr>\n",
       "      <th>91</th>\n",
       "      <td>Tostitos Splash Of Lime</td>\n",
       "      <td>175</td>\n",
       "      <td>6234</td>\n",
       "      <td>27429.6</td>\n",
       "      <td>4.4</td>\n",
       "    </tr>\n",
       "  </tbody>\n",
       "</table>\n",
       "</div>"
      ],
      "text/plain": [
       "                              PROD_NAME  PROD_SIZE (g)  QTY_SOLD  TOT_SALES  \\\n",
       "31      Kettle Mozzarella Basil  Pesto             175      6381    34457.4   \n",
       "40  Kettle Tortilla ChpsHnyJlpno Chili             150      6309    29021.4   \n",
       "8             Cobs Popd Sea Salt Chips             110      6277    23852.6   \n",
       "10    Cobs Popd SwtChlli SrCream Chips             110      6256    23772.8   \n",
       "91             Tostitos Splash Of Lime             175      6234    27429.6   \n",
       "\n",
       "    PRICE_PER_UNIT  \n",
       "31             5.4  \n",
       "40             4.6  \n",
       "8              3.8  \n",
       "10             3.8  \n",
       "91             4.4  "
      ]
     },
     "execution_count": 41,
     "metadata": {},
     "output_type": "execute_result"
    }
   ],
   "source": [
    "chip_sales.sort_values('QTY_SOLD', ascending=False).head()"
   ]
  },
  {
   "cell_type": "code",
   "execution_count": 42,
   "metadata": {},
   "outputs": [
    {
     "data": {
      "text/html": [
       "<div>\n",
       "<style scoped>\n",
       "    .dataframe tbody tr th:only-of-type {\n",
       "        vertical-align: middle;\n",
       "    }\n",
       "\n",
       "    .dataframe tbody tr th {\n",
       "        vertical-align: top;\n",
       "    }\n",
       "\n",
       "    .dataframe thead th {\n",
       "        text-align: right;\n",
       "    }\n",
       "</style>\n",
       "<table border=\"1\" class=\"dataframe\">\n",
       "  <thead>\n",
       "    <tr style=\"text-align: right;\">\n",
       "      <th></th>\n",
       "      <th>PROD_NAME</th>\n",
       "      <th>PROD_SIZE (g)</th>\n",
       "      <th>QTY_SOLD</th>\n",
       "      <th>TOT_SALES</th>\n",
       "      <th>PRICE_PER_UNIT</th>\n",
       "    </tr>\n",
       "  </thead>\n",
       "  <tbody>\n",
       "    <tr>\n",
       "      <th>11</th>\n",
       "      <td>Dorito Corn Chp Supreme</td>\n",
       "      <td>380</td>\n",
       "      <td>6109</td>\n",
       "      <td>39052.0</td>\n",
       "      <td>6.392536</td>\n",
       "    </tr>\n",
       "    <tr>\n",
       "      <th>79</th>\n",
       "      <td>Smiths Crnkle Chip Orgnl Big Bag</td>\n",
       "      <td>380</td>\n",
       "      <td>6164</td>\n",
       "      <td>36367.6</td>\n",
       "      <td>5.900000</td>\n",
       "    </tr>\n",
       "    <tr>\n",
       "      <th>70</th>\n",
       "      <td>Smiths Crinkle Chips Salt  Vinegar</td>\n",
       "      <td>330</td>\n",
       "      <td>6106</td>\n",
       "      <td>34804.2</td>\n",
       "      <td>5.700000</td>\n",
       "    </tr>\n",
       "    <tr>\n",
       "      <th>31</th>\n",
       "      <td>Kettle Mozzarella Basil  Pesto</td>\n",
       "      <td>175</td>\n",
       "      <td>6381</td>\n",
       "      <td>34457.4</td>\n",
       "      <td>5.400000</td>\n",
       "    </tr>\n",
       "    <tr>\n",
       "      <th>78</th>\n",
       "      <td>Smiths Crinkle Original</td>\n",
       "      <td>330</td>\n",
       "      <td>6018</td>\n",
       "      <td>34302.6</td>\n",
       "      <td>5.700000</td>\n",
       "    </tr>\n",
       "  </tbody>\n",
       "</table>\n",
       "</div>"
      ],
      "text/plain": [
       "                              PROD_NAME  PROD_SIZE (g)  QTY_SOLD  TOT_SALES  \\\n",
       "11             Dorito Corn Chp Supreme             380      6109    39052.0   \n",
       "79    Smiths Crnkle Chip Orgnl Big Bag             380      6164    36367.6   \n",
       "70  Smiths Crinkle Chips Salt  Vinegar             330      6106    34804.2   \n",
       "31      Kettle Mozzarella Basil  Pesto             175      6381    34457.4   \n",
       "78             Smiths Crinkle Original             330      6018    34302.6   \n",
       "\n",
       "    PRICE_PER_UNIT  \n",
       "11        6.392536  \n",
       "79        5.900000  \n",
       "70        5.700000  \n",
       "31        5.400000  \n",
       "78        5.700000  "
      ]
     },
     "execution_count": 42,
     "metadata": {},
     "output_type": "execute_result"
    }
   ],
   "source": [
    "chip_sales.sort_values('TOT_SALES', ascending=False).head()"
   ]
  },
  {
   "cell_type": "markdown",
   "metadata": {},
   "source": [
    "`Kettle Mozzarella Basil Pesto` seems to have the largest number of sales based on `QTY_SOLD`. To dig deeper, we would need to analyze the chip data per customer segment."
   ]
  },
  {
   "cell_type": "markdown",
   "metadata": {},
   "source": [
    "### Customers who spend the most on chips"
   ]
  },
  {
   "cell_type": "code",
   "execution_count": 43,
   "metadata": {},
   "outputs": [],
   "source": [
    "customer_count = customer_data.groupby(['LIFESTAGE','PREMIUM_CUSTOMER'])\\\n",
    "                              .count()\\\n",
    "                              .reset_index()\\\n",
    "                              .rename(columns={'LYLTY_CARD_NBR':'CUSTOMER_COUNT'})\\\n",
    "                              .sort_values('CUSTOMER_COUNT', ignore_index=True, ascending=False)"
   ]
  },
  {
   "cell_type": "markdown",
   "metadata": {},
   "source": [
    "Prepare bar plot for data visualization:"
   ]
  },
  {
   "cell_type": "code",
   "execution_count": 44,
   "metadata": {},
   "outputs": [
    {
     "data": {
      "image/png": "[encoded data removed]",
      "text/plain": [
       "<Figure size 504x72 with 1 Axes>"
      ]
     },
     "metadata": {
      "needs_background": "light"
     },
     "output_type": "display_data"
    }
   ],
   "source": [
    "colorList = ['#003f5c',\n",
    "             '#374c80',\n",
    "             '#7a5195',\n",
    "             '#bc5090',\n",
    "             '#ef5675',\n",
    "             '#ff764a',\n",
    "             '#ffa600']\n",
    "\n",
    "labelList = customer_count.LIFESTAGE.unique()\n",
    "handles = [mpatches.Patch(color=color, label=label) for color, label in zip(colorList,labelList)]\n",
    "\n",
    "current_palette = sns.color_palette(colorList)\n",
    "sns.palplot(current_palette)\n",
    "plt.show()"
   ]
  },
  {
   "cell_type": "code",
   "execution_count": 45,
   "metadata": {},
   "outputs": [
    {
     "data": {
      "image/png": "[encoded data removed]",
      "text/plain": [
       "<Figure size 720x288 with 1 Axes>"
      ]
     },
     "metadata": {
      "needs_background": "light"
     },
     "output_type": "display_data"
    }
   ],
   "source": [
    "plt.figure(figsize=(10,4))\n",
    "\n",
    "tierList = ['Budget','Mainstream','Premium']\n",
    "\n",
    "g = sns.barplot(data=customer_count, \n",
    "                x='PREMIUM_CUSTOMER', \n",
    "                y='CUSTOMER_COUNT', \n",
    "                hue='LIFESTAGE',\n",
    "                palette=colorList,\n",
    "                order=tierList,\n",
    "                hue_order=labelList)\n",
    "g.set_xticklabels(tierList)\n",
    "plt.title('Lifestage customers sample size by premium tier')\n",
    "plt.xlabel('PREMIUM CUSTOMER', labelpad=10)\n",
    "plt.ylabel('CUSTOMER COUNT', labelpad=5)\n",
    "plt.grid(axis='y', color='0.80', alpha=0.3)\n",
    "plt.legend(handles=handles, \n",
    "           loc=\"upper right\",\n",
    "           bbox_to_anchor=(1.35,1))\n",
    "plt.savefig('results_images/task1_customer_count.png', bbox_inches='tight', dpi=300)\n",
    "plt.show()"
   ]
  },
  {
   "cell_type": "markdown",
   "metadata": {},
   "source": [
    "From the data, `YOUNG SINGLES/COUPLES` and `RETIREES` under the `mainstream` tier are the most numerous among customers who buy chips."
   ]
  },
  {
   "cell_type": "code",
   "execution_count": 46,
   "metadata": {},
   "outputs": [
    {
     "data": {
      "text/html": [
       "<div>\n",
       "<style scoped>\n",
       "    .dataframe tbody tr th:only-of-type {\n",
       "        vertical-align: middle;\n",
       "    }\n",
       "\n",
       "    .dataframe tbody tr th {\n",
       "        vertical-align: top;\n",
       "    }\n",
       "\n",
       "    .dataframe thead th {\n",
       "        text-align: right;\n",
       "    }\n",
       "</style>\n",
       "<table border=\"1\" class=\"dataframe\">\n",
       "  <thead>\n",
       "    <tr style=\"text-align: right;\">\n",
       "      <th></th>\n",
       "      <th>LIFESTAGE</th>\n",
       "      <th>PROD_QTY</th>\n",
       "      <th>TOT_SALES</th>\n",
       "      <th>AVE_SPEND</th>\n",
       "    </tr>\n",
       "  </thead>\n",
       "  <tbody>\n",
       "    <tr>\n",
       "      <th>1</th>\n",
       "      <td>NEW FAMILIES</td>\n",
       "      <td>12070</td>\n",
       "      <td>47347.95</td>\n",
       "      <td>3.922780</td>\n",
       "    </tr>\n",
       "    <tr>\n",
       "      <th>6</th>\n",
       "      <td>YOUNG SINGLES/COUPLES</td>\n",
       "      <td>62300</td>\n",
       "      <td>243756.60</td>\n",
       "      <td>3.912626</td>\n",
       "    </tr>\n",
       "    <tr>\n",
       "      <th>4</th>\n",
       "      <td>RETIREES</td>\n",
       "      <td>87875</td>\n",
       "      <td>342381.90</td>\n",
       "      <td>3.896238</td>\n",
       "    </tr>\n",
       "    <tr>\n",
       "      <th>0</th>\n",
       "      <td>MIDAGE SINGLES/COUPLES</td>\n",
       "      <td>44496</td>\n",
       "      <td>172523.80</td>\n",
       "      <td>3.877288</td>\n",
       "    </tr>\n",
       "    <tr>\n",
       "      <th>3</th>\n",
       "      <td>OLDER SINGLES/COUPLES</td>\n",
       "      <td>97185</td>\n",
       "      <td>376019.65</td>\n",
       "      <td>3.869112</td>\n",
       "    </tr>\n",
       "    <tr>\n",
       "      <th>5</th>\n",
       "      <td>YOUNG FAMILIES</td>\n",
       "      <td>78577</td>\n",
       "      <td>294627.90</td>\n",
       "      <td>3.749544</td>\n",
       "    </tr>\n",
       "    <tr>\n",
       "      <th>2</th>\n",
       "      <td>OLDER FAMILIES</td>\n",
       "      <td>87896</td>\n",
       "      <td>328519.90</td>\n",
       "      <td>3.737598</td>\n",
       "    </tr>\n",
       "  </tbody>\n",
       "</table>\n",
       "</div>"
      ],
      "text/plain": [
       "                LIFESTAGE  PROD_QTY  TOT_SALES  AVE_SPEND\n",
       "1            NEW FAMILIES     12070   47347.95   3.922780\n",
       "6   YOUNG SINGLES/COUPLES     62300  243756.60   3.912626\n",
       "4                RETIREES     87875  342381.90   3.896238\n",
       "0  MIDAGE SINGLES/COUPLES     44496  172523.80   3.877288\n",
       "3   OLDER SINGLES/COUPLES     97185  376019.65   3.869112\n",
       "5          YOUNG FAMILIES     78577  294627.90   3.749544\n",
       "2          OLDER FAMILIES     87896  328519.90   3.737598"
      ]
     },
     "execution_count": 46,
     "metadata": {},
     "output_type": "execute_result"
    }
   ],
   "source": [
    "lifestage_sales = chip_data_full.groupby(['LIFESTAGE'])\\\n",
    "                                .agg({'PROD_QTY':'sum','TOT_SALES':'sum'})\\\n",
    "                                .reset_index()\n",
    "\n",
    "lifestage_sales['AVE_SPEND'] = lifestage_sales['TOT_SALES']/lifestage_sales['PROD_QTY']\n",
    "lifestage_sales.sort_values('AVE_SPEND', ascending=False)"
   ]
  },
  {
   "cell_type": "markdown",
   "metadata": {},
   "source": [
    "By `AVE_SPEND`(price per unit sold), `NEW FAMILIES` and `YOUNG SINGLES/COUPLES` are willing to spend more for chips."
   ]
  },
  {
   "cell_type": "code",
   "execution_count": 47,
   "metadata": {},
   "outputs": [
    {
     "data": {
      "text/html": [
       "<div>\n",
       "<style scoped>\n",
       "    .dataframe tbody tr th:only-of-type {\n",
       "        vertical-align: middle;\n",
       "    }\n",
       "\n",
       "    .dataframe tbody tr th {\n",
       "        vertical-align: top;\n",
       "    }\n",
       "\n",
       "    .dataframe thead th {\n",
       "        text-align: right;\n",
       "    }\n",
       "</style>\n",
       "<table border=\"1\" class=\"dataframe\">\n",
       "  <thead>\n",
       "    <tr style=\"text-align: right;\">\n",
       "      <th></th>\n",
       "      <th>PREMIUM_CUSTOMER</th>\n",
       "      <th>PROD_QTY</th>\n",
       "      <th>TOT_SALES</th>\n",
       "      <th>AVE_SPEND</th>\n",
       "    </tr>\n",
       "  </thead>\n",
       "  <tbody>\n",
       "    <tr>\n",
       "      <th>1</th>\n",
       "      <td>Mainstream</td>\n",
       "      <td>180780</td>\n",
       "      <td>700865.40</td>\n",
       "      <td>3.876897</td>\n",
       "    </tr>\n",
       "    <tr>\n",
       "      <th>2</th>\n",
       "      <td>Premium</td>\n",
       "      <td>123845</td>\n",
       "      <td>472905.45</td>\n",
       "      <td>3.818527</td>\n",
       "    </tr>\n",
       "    <tr>\n",
       "      <th>0</th>\n",
       "      <td>Budget</td>\n",
       "      <td>165774</td>\n",
       "      <td>631406.85</td>\n",
       "      <td>3.808841</td>\n",
       "    </tr>\n",
       "  </tbody>\n",
       "</table>\n",
       "</div>"
      ],
      "text/plain": [
       "  PREMIUM_CUSTOMER  PROD_QTY  TOT_SALES  AVE_SPEND\n",
       "1       Mainstream    180780  700865.40   3.876897\n",
       "2          Premium    123845  472905.45   3.818527\n",
       "0           Budget    165774  631406.85   3.808841"
      ]
     },
     "execution_count": 47,
     "metadata": {},
     "output_type": "execute_result"
    }
   ],
   "source": [
    "premium_sales = chip_data_full.groupby(['PREMIUM_CUSTOMER'])\\\n",
    "                              .agg({'PROD_QTY':'sum','TOT_SALES':'sum'})\\\n",
    "                              .reset_index()\n",
    "\n",
    "premium_sales['AVE_SPEND'] = premium_sales['TOT_SALES']/premium_sales['PROD_QTY']\n",
    "premium_sales.sort_values('AVE_SPEND', ascending=False)"
   ]
  },
  {
   "cell_type": "markdown",
   "metadata": {},
   "source": [
    "Meanwhile, people in the `Mainstream` tier spends more on chips in general."
   ]
  },
  {
   "cell_type": "code",
   "execution_count": 48,
   "metadata": {},
   "outputs": [
    {
     "data": {
      "text/html": [
       "<div>\n",
       "<style scoped>\n",
       "    .dataframe tbody tr th:only-of-type {\n",
       "        vertical-align: middle;\n",
       "    }\n",
       "\n",
       "    .dataframe tbody tr th {\n",
       "        vertical-align: top;\n",
       "    }\n",
       "\n",
       "    .dataframe thead th {\n",
       "        text-align: right;\n",
       "    }\n",
       "</style>\n",
       "<table border=\"1\" class=\"dataframe\">\n",
       "  <thead>\n",
       "    <tr style=\"text-align: right;\">\n",
       "      <th></th>\n",
       "      <th>LIFESTAGE</th>\n",
       "      <th>PREMIUM_CUSTOMER</th>\n",
       "      <th>PROD_QTY</th>\n",
       "      <th>TOT_SALES</th>\n",
       "      <th>AVE_SPEND</th>\n",
       "    </tr>\n",
       "  </thead>\n",
       "  <tbody>\n",
       "    <tr>\n",
       "      <th>19</th>\n",
       "      <td>YOUNG SINGLES/COUPLES</td>\n",
       "      <td>Mainstream</td>\n",
       "      <td>36225</td>\n",
       "      <td>147582.20</td>\n",
       "      <td>4.074043</td>\n",
       "    </tr>\n",
       "    <tr>\n",
       "      <th>1</th>\n",
       "      <td>MIDAGE SINGLES/COUPLES</td>\n",
       "      <td>Mainstream</td>\n",
       "      <td>21213</td>\n",
       "      <td>84734.25</td>\n",
       "      <td>3.994449</td>\n",
       "    </tr>\n",
       "    <tr>\n",
       "      <th>4</th>\n",
       "      <td>NEW FAMILIES</td>\n",
       "      <td>Mainstream</td>\n",
       "      <td>4060</td>\n",
       "      <td>15979.70</td>\n",
       "      <td>3.935887</td>\n",
       "    </tr>\n",
       "    <tr>\n",
       "      <th>12</th>\n",
       "      <td>RETIREES</td>\n",
       "      <td>Budget</td>\n",
       "      <td>26932</td>\n",
       "      <td>105916.30</td>\n",
       "      <td>3.932731</td>\n",
       "    </tr>\n",
       "    <tr>\n",
       "      <th>3</th>\n",
       "      <td>NEW FAMILIES</td>\n",
       "      <td>Budget</td>\n",
       "      <td>5241</td>\n",
       "      <td>20607.45</td>\n",
       "      <td>3.931969</td>\n",
       "    </tr>\n",
       "  </tbody>\n",
       "</table>\n",
       "</div>"
      ],
      "text/plain": [
       "                 LIFESTAGE PREMIUM_CUSTOMER  PROD_QTY  TOT_SALES  AVE_SPEND\n",
       "19   YOUNG SINGLES/COUPLES       Mainstream     36225  147582.20   4.074043\n",
       "1   MIDAGE SINGLES/COUPLES       Mainstream     21213   84734.25   3.994449\n",
       "4             NEW FAMILIES       Mainstream      4060   15979.70   3.935887\n",
       "12                RETIREES           Budget     26932  105916.30   3.932731\n",
       "3             NEW FAMILIES           Budget      5241   20607.45   3.931969"
      ]
     },
     "execution_count": 48,
     "metadata": {},
     "output_type": "execute_result"
    }
   ],
   "source": [
    "lifestage_premium_sales = chip_data_full.groupby(['LIFESTAGE','PREMIUM_CUSTOMER'])\\\n",
    "                                        .agg({'PROD_QTY':'sum','TOT_SALES':'sum'})\\\n",
    "                                        .reset_index()\n",
    "\n",
    "lifestage_premium_sales['AVE_SPEND'] = lifestage_premium_sales['TOT_SALES']/lifestage_premium_sales['PROD_QTY']\n",
    "lifestage_premium_sales['CUSTOMER_TYPE'] = lifestage_premium_sales.LIFESTAGE+\" \"+lifestage_premium_sales.PREMIUM_CUSTOMER\n",
    "lifestage_premium_sales[lifestage_premium_sales.columns[:-1]].sort_values('AVE_SPEND', ascending=False).head()"
   ]
  },
  {
   "cell_type": "code",
   "execution_count": 49,
   "metadata": {},
   "outputs": [
    {
     "data": {
      "image/png": "[encoded data removed]",
      "text/plain": [
       "<Figure size 720x288 with 1 Axes>"
      ]
     },
     "metadata": {
      "needs_background": "light"
     },
     "output_type": "display_data"
    }
   ],
   "source": [
    "plt.figure(figsize=(10,4))\n",
    "\n",
    "tierList = ['Budget','Mainstream','Premium']\n",
    "\n",
    "g = sns.barplot(data=lifestage_premium_sales, \n",
    "                x='PREMIUM_CUSTOMER', \n",
    "                y='AVE_SPEND', \n",
    "                hue='LIFESTAGE',\n",
    "                palette=colorList,\n",
    "                order=tierList,\n",
    "                hue_order=labelList)\n",
    "g.set_xticklabels(tierList)\n",
    "plt.title('Average spend of lifestage customers grouped by premium tier')\n",
    "plt.xlabel('PREMIUM CUSTOMER', labelpad=10)\n",
    "plt.ylabel('AVERAGE SPEND', labelpad=5)\n",
    "plt.grid(axis='y', color='0.80', alpha=0.3)\n",
    "plt.legend(handles=handles, \n",
    "           loc=\"upper right\",\n",
    "           bbox_to_anchor=(1.35,1))\n",
    "plt.savefig('results_images/task1_customer_avespend.png', bbox_inches='tight', dpi=300)\n",
    "plt.show()"
   ]
  },
  {
   "cell_type": "markdown",
   "metadata": {},
   "source": [
    "From our two categories of customer types, we find from the above plot that `YOUNG SINGLES/COUPLES` and `MIDAGE SINGLES/COUPLES` under the `Mainstream` tier are the most likely groups to spend more on chips. `Mainstream` has the largest customer count among the tiers and might have contributed to the calculated average spend of each customer type. \n",
    "\n",
    "However, the differences in `AVE_SPEND` for the top 2 customer types (`YOUNG SINGLES/COUPLES Mainstream` and `MIDAGE SINGLES/COUPLES Mainstream`) compared to their `Budget` and `Premium` counterparts does not also seem too large. To know if the difference between these groups are *statistically significant*, we can perform an independent t-test and compare their p-values:"
   ]
  },
  {
   "cell_type": "code",
   "execution_count": 50,
   "metadata": {},
   "outputs": [],
   "source": [
    "budget = lifestage_premium_sales[lifestage_premium_sales['CUSTOMER_TYPE']\\\n",
    "                        .str.contains('YOUNG SINGLES/COUPLES Budget', case=False)\\\n",
    "                       | lifestage_premium_sales['CUSTOMER_TYPE']\\\n",
    "                        .str.contains('MIDAGE SINGLES/COUPLES Budget', case=False)]['AVE_SPEND']\n",
    "\n",
    "mainstream = lifestage_premium_sales[lifestage_premium_sales['CUSTOMER_TYPE']\\\n",
    "                        .str.contains('YOUNG SINGLES/COUPLES Mainstream', case=False)\\\n",
    "                       | lifestage_premium_sales['CUSTOMER_TYPE']\\\n",
    "                        .str.contains('MIDAGE SINGLES/COUPLES Mainstream', case=False)]['AVE_SPEND']\n",
    "\n",
    "premium = lifestage_premium_sales[lifestage_premium_sales['CUSTOMER_TYPE']\\\n",
    "                        .str.contains('YOUNG SINGLES/COUPLES Premium', case=False)\\\n",
    "                       | lifestage_premium_sales['CUSTOMER_TYPE']\\\n",
    "                        .str.contains('MIDAGE SINGLES/COUPLES Premium', case=False)]['AVE_SPEND']"
   ]
  },
  {
   "cell_type": "markdown",
   "metadata": {},
   "source": [
    "We will be using `ttest_ind()` from `scipy.stats` to perform an independent t-test. **We will attempt to prove or disprove the NULL hypothesis which states that the means of both groups are the same.** The `alpha` is set to be at 0.05 and if the `p-value < 0.05`, then the NULL hypothesis is proven to be FALSE since the chance of the hypothetical mean falling near each other is low."
   ]
  },
  {
   "cell_type": "code",
   "execution_count": 51,
   "metadata": {
    "scrolled": true
   },
   "outputs": [
    {
     "name": "stdout",
     "output_type": "stream",
     "text": [
      "**P-values of YOUNG SINGLES/COUPLES and MIDAGE SINGLES/COUPLES:**\n",
      "Budget-Mainstream p-value: 0.028151782016415102 < 0.05 --> SIGNIFICANT\n",
      "Mainstream-Premium p-value: 0.03829840169691152 < 0.05 --> SIGNIFICANT\n",
      "Budget-Premium p-value: 0.7876014765998863 > 0.05 --> NULL HYPOTHESIS CORRECT\n"
     ]
    }
   ],
   "source": [
    "tstat_bm, pvalues_bm = ttest_ind(budget, mainstream, equal_var=False)\n",
    "tstat_mp, pvalues_mp = ttest_ind(mainstream, premium, equal_var=False)\n",
    "tstat_bp, pvalues_bp = ttest_ind(budget, premium, equal_var=False)\n",
    "\n",
    "print(\"**P-values of YOUNG SINGLES/COUPLES and MIDAGE SINGLES/COUPLES:**\")\n",
    "if pvalues_bm < 0.05:\n",
    "    print(f\"Budget-Mainstream p-value: {pvalues_bm} < 0.05 --> SIGNIFICANT\")\n",
    "else:\n",
    "    print(f\"Budget-Mainstream p-value: {pvalues_bm} > 0.05 --> NULL HYPOTHESIS CORRECT\")\n",
    "    \n",
    "if pvalues_mp < 0.05:\n",
    "    print(f\"Mainstream-Premium p-value: {pvalues_mp} < 0.05 --> SIGNIFICANT\")\n",
    "else:\n",
    "    print(f\"Mainstream-Premium p-value: {pvalues_mp} > 0.05 --> NULL HYPOTHESIS CORRECT\")\n",
    "    \n",
    "if pvalues_bp < 0.05:\n",
    "    print(f\"Budget-Premium p-value: {pvalues_bp} < 0.05 --> SIGNIFICANT\")\n",
    "else:\n",
    "    print(f\"Budget-Premium p-value: {pvalues_bp} > 0.05 --> NULL HYPOTHESIS CORRECT\")"
   ]
  },
  {
   "cell_type": "markdown",
   "metadata": {},
   "source": [
    "From above results, p-value of `Mainstream` `YOUNG SINGLES/COUPLES` and `MIDAGE SINGLES/COUPLES` versus their `Budget` and `Premium` counterparts **both yielded p-values lower than 5%**. This means that the factors contributing to the `AVE_SPEND` of these groups are significant enough to differentiate it from other tier levels.\n",
    "\n",
    "Moreover, looking at Budget-Premium, the p-value is way higher than the set 5%. This may be due to closer `AVE_SPEND` of the lifestage groups compared to their `Mainstream` counterpart. In this case, differences between `Budget` and `Premium` for `YOUNG SINGLES/COUPLES` and `MIDAGE SINGLES/COUPLES` are negligible."
   ]
  },
  {
   "cell_type": "markdown",
   "metadata": {},
   "source": [
    "### Does product size affects average spend of each segment?"
   ]
  },
  {
   "cell_type": "code",
   "execution_count": 52,
   "metadata": {},
   "outputs": [
    {
     "data": {
      "text/html": [
       "<div>\n",
       "<style scoped>\n",
       "    .dataframe tbody tr th:only-of-type {\n",
       "        vertical-align: middle;\n",
       "    }\n",
       "\n",
       "    .dataframe tbody tr th {\n",
       "        vertical-align: top;\n",
       "    }\n",
       "\n",
       "    .dataframe thead th {\n",
       "        text-align: right;\n",
       "    }\n",
       "</style>\n",
       "<table border=\"1\" class=\"dataframe\">\n",
       "  <thead>\n",
       "    <tr style=\"text-align: right;\">\n",
       "      <th></th>\n",
       "      <th>LIFESTAGE</th>\n",
       "      <th>PREMIUM_CUSTOMER</th>\n",
       "      <th>PROD_QTY</th>\n",
       "      <th>TOT_SALES</th>\n",
       "      <th>PROD_SIZE (g)</th>\n",
       "      <th>AVE_SPEND</th>\n",
       "    </tr>\n",
       "  </thead>\n",
       "  <tbody>\n",
       "    <tr>\n",
       "      <th>19</th>\n",
       "      <td>YOUNG SINGLES/COUPLES</td>\n",
       "      <td>Mainstream</td>\n",
       "      <td>36225</td>\n",
       "      <td>147582.20</td>\n",
       "      <td>178.344249</td>\n",
       "      <td>4.074043</td>\n",
       "    </tr>\n",
       "    <tr>\n",
       "      <th>1</th>\n",
       "      <td>MIDAGE SINGLES/COUPLES</td>\n",
       "      <td>Mainstream</td>\n",
       "      <td>21213</td>\n",
       "      <td>84734.25</td>\n",
       "      <td>177.898693</td>\n",
       "      <td>3.994449</td>\n",
       "    </tr>\n",
       "    <tr>\n",
       "      <th>11</th>\n",
       "      <td>OLDER SINGLES/COUPLES</td>\n",
       "      <td>Premium</td>\n",
       "      <td>31695</td>\n",
       "      <td>123537.55</td>\n",
       "      <td>176.485568</td>\n",
       "      <td>3.897698</td>\n",
       "    </tr>\n",
       "    <tr>\n",
       "      <th>12</th>\n",
       "      <td>RETIREES</td>\n",
       "      <td>Budget</td>\n",
       "      <td>26932</td>\n",
       "      <td>105916.30</td>\n",
       "      <td>176.395641</td>\n",
       "      <td>3.932731</td>\n",
       "    </tr>\n",
       "    <tr>\n",
       "      <th>14</th>\n",
       "      <td>RETIREES</td>\n",
       "      <td>Premium</td>\n",
       "      <td>23266</td>\n",
       "      <td>91296.65</td>\n",
       "      <td>176.368421</td>\n",
       "      <td>3.924037</td>\n",
       "    </tr>\n",
       "  </tbody>\n",
       "</table>\n",
       "</div>"
      ],
      "text/plain": [
       "                 LIFESTAGE PREMIUM_CUSTOMER  PROD_QTY  TOT_SALES  \\\n",
       "19   YOUNG SINGLES/COUPLES       Mainstream     36225  147582.20   \n",
       "1   MIDAGE SINGLES/COUPLES       Mainstream     21213   84734.25   \n",
       "11   OLDER SINGLES/COUPLES          Premium     31695  123537.55   \n",
       "12                RETIREES           Budget     26932  105916.30   \n",
       "14                RETIREES          Premium     23266   91296.65   \n",
       "\n",
       "    PROD_SIZE (g)  AVE_SPEND  \n",
       "19     178.344249   4.074043  \n",
       "1      177.898693   3.994449  \n",
       "11     176.485568   3.897698  \n",
       "12     176.395641   3.932731  \n",
       "14     176.368421   3.924037  "
      ]
     },
     "execution_count": 52,
     "metadata": {},
     "output_type": "execute_result"
    }
   ],
   "source": [
    "prod_size = chip_data_full.groupby(['LIFESTAGE','PREMIUM_CUSTOMER'])\\\n",
    "                          .agg({'PROD_QTY':'sum','TOT_SALES':'sum','PROD_SIZE (g)':'mean'})\\\n",
    "                          .reset_index()\n",
    "prod_size['AVE_SPEND'] = prod_size['TOT_SALES']/prod_size['PROD_QTY']\n",
    "prod_size.sort_values('PROD_SIZE (g)', ascending=False).head()"
   ]
  },
  {
   "cell_type": "code",
   "execution_count": 54,
   "metadata": {},
   "outputs": [
    {
     "data": {
      "image/png": "[encoded data removed]",
      "text/plain": [
       "<Figure size 360x360 with 1 Axes>"
      ]
     },
     "metadata": {
      "needs_background": "light"
     },
     "output_type": "display_data"
    }
   ],
   "source": [
    "x = prod_size['PROD_SIZE (g)']\n",
    "y = prod_size['AVE_SPEND']\n",
    "\n",
    "#plot data points\n",
    "plt.figure(figsize=(5,5))\n",
    "plt.scatter(x, y, color='#7a5195', s=50, label='data')\n",
    "plt.title(\"Average product size versus average spend \\nfor each customer segment\")\n",
    "plt.xlabel(\"AVERAGE PRODUCT SIZE (g)\", labelpad=10)\n",
    "plt.ylabel(\"AVERAGE SPEND\", labelpad=10)\n",
    "\n",
    "#plot regression line\n",
    "regression = linregress(x,y)\n",
    "y_pred = x*regression.slope + regression.intercept\n",
    "plt.plot(x, y_pred, linestyle='dotted', linewidth=1, color='#ffa600', label='linear fit')\n",
    "plt.annotate(f'R-value: {round(regression.rvalue, 3)}', xy=(176.5,3.75))\n",
    "plt.legend()\n",
    "\n",
    "plt.savefig('results_images/task1_linearreg_avespend.png', bbox_inches='tight', dpi=300)\n",
    "plt.show()"
   ]
  },
  {
   "cell_type": "markdown",
   "metadata": {},
   "source": [
    "Getting the linear regression of `AVE_PROD_SIZE` versus `AVE_SPEND` resulted to a R-value of 0.847 which is near unity. This implies a strong linear correlation for the two variables. Based on this, customers with a high `AVE_SPEND` on chips will also, on average, buy chips of larger size."
   ]
  },
  {
   "cell_type": "markdown",
   "metadata": {},
   "source": [
    "### Which chips and brand are preferred for each segment?\n",
    "What chips/brands are preferred by `YOUNG SINGLES/COUPLES Mainstream` and `MIDAGE SINGLES/COUPLES Mainstream`?"
   ]
  },
  {
   "cell_type": "code",
   "execution_count": 56,
   "metadata": {},
   "outputs": [],
   "source": [
    "chip_data_full['CUSTOMER_TYPE'] = chip_data_full['LIFESTAGE']+' '+chip_data_full['PREMIUM_CUSTOMER']"
   ]
  },
  {
   "cell_type": "code",
   "execution_count": 71,
   "metadata": {},
   "outputs": [],
   "source": [
    "def name_freq(customer):\n",
    "    \n",
    "    main = chip_data_full[chip_data_full.CUSTOMER_TYPE.str.contains(customer)]\n",
    "    others = chip_data_full[~chip_data_full.CUSTOMER_TYPE.str.contains(customer)]\n",
    "    \n",
    "    main_qty = sum(main['PROD_QTY'])\n",
    "    others_qty = sum(others['PROD_QTY'])\n",
    "    \n",
    "    main_grouped = main.groupby(['PROD_NAME'])\\\n",
    "                       .agg({'TXN_ID':'count','PROD_QTY':'sum','TOT_SALES':'sum'})\\\n",
    "                       .reset_index().rename(columns={'TXN_ID':'TRANX_COUNT'})\\\n",
    "                       [['PROD_NAME','PROD_QTY']]\n",
    "\n",
    "    others_grouped = others.groupby(['PROD_NAME'])\\\n",
    "                           .agg({'TXN_ID':'count','PROD_QTY':'sum','TOT_SALES':'sum'})\\\n",
    "                           .reset_index().rename(columns={'TXN_ID':'TRANX_COUNT'})\\\n",
    "                           [['PROD_NAME','PROD_QTY']]\n",
    "\n",
    "    grouped = main_grouped.merge(others_grouped, on=['PROD_NAME'], how='inner')\n",
    "    grouped['SEGMENT/OTHERS'] = grouped['PROD_QTY_x']/grouped['PROD_QTY_y']\n",
    "    grouped['AFFINITY'] = (grouped['PROD_QTY_x']/grouped['PROD_QTY_y'])*(others_qty/main_qty)\n",
    "\n",
    "    #product most likely chosen by segment\n",
    "    print(grouped[['PROD_NAME','SEGMENT/OTHERS','AFFINITY']]\\\n",
    "                  .sort_values('AFFINITY', ascending=False))\n",
    "\n",
    "    print(\" \")\n",
    "\n",
    "    main_grouped = main.groupby(['BRAND_NAME'])\\\n",
    "                       .agg({'TXN_ID':'count','PROD_QTY':'sum','TOT_SALES':'sum'})\\\n",
    "                       .reset_index().rename(columns={'TXN_ID':'TRANX_COUNT'})\\\n",
    "                       [['BRAND_NAME','PROD_QTY']]\n",
    "\n",
    "    others_grouped = others.groupby(['BRAND_NAME'])\\\n",
    "                           .agg({'TXN_ID':'count','PROD_QTY':'sum','TOT_SALES':'sum'})\\\n",
    "                           .reset_index().rename(columns={'TXN_ID':'TRANX_COUNT'})\\\n",
    "                           [['BRAND_NAME','PROD_QTY']]\n",
    "\n",
    "    grouped = main_grouped.merge(others_grouped, on=['BRAND_NAME'], how='inner')\n",
    "    grouped['SEGMENT/OTHERS'] = grouped['PROD_QTY_x']/grouped['PROD_QTY_y']\n",
    "    grouped['AFFINITY'] = (grouped['PROD_QTY_x']/grouped['PROD_QTY_y'])*(others_qty/main_qty)\n",
    "\n",
    "    #brand name most preferred by segment\n",
    "    print(grouped[['BRAND_NAME','SEGMENT/OTHERS','AFFINITY']]\\\n",
    "                  .sort_values('AFFINITY', ascending=False))\n",
    "    \n",
    "    print(\" \")\n",
    "\n",
    "    main_grouped = main.groupby(['PROD_SIZE (g)'])\\\n",
    "                       .agg({'TXN_ID':'count','PROD_QTY':'sum','TOT_SALES':'sum'})\\\n",
    "                       .reset_index().rename(columns={'TXN_ID':'TRANX_COUNT'})\\\n",
    "                       [['PROD_SIZE (g)','PROD_QTY']]\n",
    "\n",
    "    others_grouped = others.groupby(['PROD_SIZE (g)'])\\\n",
    "                           .agg({'TXN_ID':'count','PROD_QTY':'sum','TOT_SALES':'sum'})\\\n",
    "                           .reset_index().rename(columns={'TXN_ID':'TRANX_COUNT'})\\\n",
    "                           [['PROD_SIZE (g)','PROD_QTY']]\n",
    "\n",
    "    grouped = main_grouped.merge(others_grouped, on=['PROD_SIZE (g)'], how='inner')\n",
    "    grouped['SEGMENT/OTHERS'] = grouped['PROD_QTY_x']/grouped['PROD_QTY_y']\n",
    "    grouped['AFFINITY'] = (grouped['PROD_QTY_x']/grouped['PROD_QTY_y'])*(others_qty/main_qty)\n",
    "\n",
    "    #package size most preferred by segment\n",
    "    print(grouped[['PROD_SIZE (g)','SEGMENT/OTHERS','AFFINITY']]\\\n",
    "                  .sort_values('AFFINITY', ascending=False))\n",
    "\n",
    "    \"-------------Find word frequency:---------------------------------------------\"\n",
    "\n",
    "    banned_names = chip_data_full['BRAND_NAME'].unique().tolist()\n",
    "    banned_names.extend(['Chip','Chips','And'])\n",
    "\n",
    "    main_names = main.set_index('PROD_QTY')['PROD_NAME']\\\n",
    "                                 .str.split(expand=True)\\\n",
    "                                 .stack()\\\n",
    "                                 .reset_index()\\\n",
    "                                 .rename(columns={0:'NAME'})\n",
    "    name_count = main_names[~main_names['NAME']\\\n",
    "                                 .isin(banned_names)]\\\n",
    "                                 .groupby('NAME')\\\n",
    "                                 .agg({'PROD_QTY':'sum'})\\\n",
    "                                 .reset_index()\\\n",
    "                                 .rename(columns={'PROD_QTY':'COUNT'})\\\n",
    "                                 [['NAME','COUNT']]\\\n",
    "                                 .sort_values('COUNT', ascending=False)\\\n",
    "                                 .head(20)\n",
    "    #plot top 20 words\n",
    "    plt.figure(figsize=(10,4))\n",
    "    g = sns.barplot(data=name_count, x='NAME', y='COUNT', color='#7a5195')\n",
    "    g.set_xticklabels(g.get_xticklabels(), rotation=40)\n",
    "    plt.title(f'{customer} PRODUCT WORD COUNT')\n",
    "    plt.xlabel('WORDS', labelpad=10)\n",
    "    plt.ylabel('WORD COUNT', labelpad=10)\n",
    "    \n",
    "    plt.savefig(f'results_images/task1_wordfreq.png', bbox_inches='tight', dpi=300, pad_inches=2)\n",
    "    plt.show()"
   ]
  },
  {
   "cell_type": "markdown",
   "metadata": {},
   "source": [
    "For `YOUNG SINGLES/COUPLES Mainstream`:"
   ]
  },
  {
   "cell_type": "code",
   "execution_count": 72,
   "metadata": {},
   "outputs": [
    {
     "name": "stdout",
     "output_type": "stream",
     "text": [
      "                              PROD_NAME  SEGMENT/OTHERS  AFFINITY\n",
      "15   Doritos Corn Chips Cheese Supreme         0.111711  1.338907\n",
      "91             Tostitos Splash Of Lime         0.110240  1.321284\n",
      "31      Kettle Mozzarella Basil  Pesto         0.108775  1.303720\n",
      "92                     Twisties Cheese         0.108358  1.298722\n",
      "48            Pringles Mystery Flavour         0.107810  1.292157\n",
      "..                                  ...             ...       ...\n",
      "83    Sunbites Whlegrn Crisps FrchOnin         0.039969  0.479051\n",
      "100             WW Original Corn Chips         0.038985  0.467253\n",
      "99             WW DStyle Chip Sea Salt         0.038722  0.464099\n",
      "104            Woolworths Cheese Rings         0.037198  0.445830\n",
      "0                         Burger Rings         0.037011  0.443597\n",
      "\n",
      "[105 rows x 3 columns]\n",
      " \n",
      "    BRAND_NAME  SEGMENT/OTHERS  AFFINITY\n",
      "19    Tyrrells        0.102465  1.228095\n",
      "18    Twisties        0.101733  1.219319\n",
      "5      Doritos        0.101335  1.214553\n",
      "9       Kettle        0.099779  1.195897\n",
      "17    Tostitos        0.099763  1.195713\n",
      "11    Pringles        0.099009  1.186670\n",
      "4         Cobs        0.095376  1.143124\n",
      "8    Infuzions        0.094567  1.133435\n",
      "16       Thins        0.088392  1.059423\n",
      "7      GrnWves        0.087512  1.048873\n",
      "3     Cheezels        0.080410  0.963753\n",
      "14     Smithss        0.066747  0.800000\n",
      "6       French        0.057200  0.685569\n",
      "2      Cheetos        0.055545  0.665733\n",
      "12         RRD        0.054156  0.649091\n",
      "10     Natural        0.053001  0.635241\n",
      "1          CCs        0.049366  0.591677\n",
      "13      Smiths        0.044507  0.533432\n",
      "15    Sunbites        0.042109  0.504698\n",
      "20  Woolworths        0.040680  0.487573\n",
      "0       Burger        0.037011  0.443597\n",
      " \n",
      "    PROD_SIZE (g)  SEGMENT/OTHERS  AFFINITY\n",
      "17            270        0.105819  1.268287\n",
      "19            380        0.104879  1.257030\n",
      "18            330        0.101933  1.221717\n",
      "4             134        0.099009  1.186670\n",
      "2             110        0.098756  1.183637\n",
      "14            210        0.096727  1.159318\n",
      "5             135        0.094240  1.129511\n",
      "16            250        0.093711  1.123166\n",
      "9             170        0.083215  0.997370\n",
      "6             150        0.080462  0.964372\n",
      "10            175        0.078794  0.944382\n",
      "8             165        0.074570  0.893757\n",
      "12            190        0.050167  0.601271\n",
      "11            180        0.049355  0.591538\n",
      "7             160        0.043187  0.517616\n",
      "1              90        0.042109  0.504698\n",
      "3             125        0.041587  0.498442\n",
      "13            200        0.040123  0.480899\n",
      "0              70        0.040073  0.480292\n",
      "15            220        0.037011  0.443597\n"
     ]
    },
    {
     "data": {
      "image/png": "[encoded data removed]",
      "text/plain": [
       "<Figure size 720x288 with 1 Axes>"
      ]
     },
     "metadata": {
      "needs_background": "light"
     },
     "output_type": "display_data"
    }
   ],
   "source": [
    "name_freq('YOUNG SINGLES/COUPLES Mainstream')"
   ]
  },
  {
   "cell_type": "markdown",
   "metadata": {},
   "source": [
    "Among those who bought `Doritos Corn Chips Cheese Supreme`, about 11.17% of them came from `YOUNG SINGLES/COUPLES Mainstream` segment. This segment is also about 34% more likely to buy this chip compared to the rest of the population. When it comes to the chip brand, `YOUNG SINGLES/COUPLES Mainstream` prefer `Tyrells` 23% more than others while they are 56% least likely to buy chips from `Burger Rings` compared to the rest."
   ]
  },
  {
   "cell_type": "code",
   "execution_count": 246,
   "metadata": {},
   "outputs": [
    {
     "data": {
      "text/plain": [
       "array(['Twisties Cheese ', 'Twisties Chicken'], dtype=object)"
      ]
     },
     "execution_count": 246,
     "metadata": {},
     "output_type": "execute_result"
    }
   ],
   "source": [
    "chip_data_full[chip_data_full['PROD_SIZE (g)']==270]['PROD_NAME'].unique()"
   ]
  },
  {
   "cell_type": "markdown",
   "metadata": {},
   "source": [
    "Chips of 270g in size are also often preferred by this customer segment and based on the above, `Twisties` is the only brand who have chips in this size. Hence, `YOUNG SINGLES/COUPLES Mainstream` may have a higher likelihood of purchasing `Twisties`."
   ]
  },
  {
   "cell_type": "code",
   "execution_count": 247,
   "metadata": {},
   "outputs": [
    {
     "name": "stdout",
     "output_type": "stream",
     "text": [
      "                              PROD_NAME  PROD_QTY\n",
      "31      Kettle Mozzarella Basil  Pesto        626\n",
      "15   Doritos Corn Chips Cheese Supreme        621\n",
      "91             Tostitos Splash Of Lime        619\n",
      "40  Kettle Tortilla ChpsHnyJlpno Chili        604\n",
      "79    Smiths Crnkle Chip Orgnl Big Bag        596\n",
      " \n",
      "   BRAND_NAME  PROD_QTY\n",
      "9      Kettle      7172\n",
      "5     Doritos      4447\n",
      "11   Pringles      4326\n",
      "14    Smithss      3252\n",
      "8   Infuzions      2343\n"
     ]
    }
   ],
   "source": [
    "customer = 'YOUNG SINGLES/COUPLES Mainstream'\n",
    "main = chip_data_full[chip_data_full.CUSTOMER_TYPE.str.contains(customer)]\n",
    "\n",
    "print(main.groupby(['PROD_NAME'])\\\n",
    "          .agg({'TXN_ID':'count','PROD_QTY':'sum','TOT_SALES':'sum'})\\\n",
    "          .reset_index().rename(columns={'TXN_ID':'TRANX_COUNT'})\\\n",
    "          [['PROD_NAME','PROD_QTY']]\\\n",
    "          .sort_values('PROD_QTY', ascending=False).head())\n",
    "\n",
    "print(\" \")\n",
    "\n",
    "print(main.groupby(['BRAND_NAME'])\\\n",
    "          .agg({'TXN_ID':'count','PROD_QTY':'sum','TOT_SALES':'sum'})\\\n",
    "          .reset_index().rename(columns={'TXN_ID':'TRANX_COUNT'})\\\n",
    "          [['BRAND_NAME','PROD_QTY']]\\\n",
    "          .sort_values('PROD_QTY', ascending=False).head())"
   ]
  },
  {
   "cell_type": "markdown",
   "metadata": {},
   "source": [
    "Based only by the number of sales, it seems like `YOUNG SINGLES/COUPLES Mainstream` customers prefer to buy `Kettle Mozzarella Basil Pesto` the most, although there is small difference from second (`Doritos Corn Chips Cheese Supreme`) and third (`Tostitos Splash Of Lime`). `Kettle Mozzarella Basil Pesto` was also the overall most bought product among customers which may be due to the high number of customers under `YOUNG SINGLES/COUPLES Mainstream`. Meanwhile, `Kettle` and `Doritos` are the top 2 brand customers in these category usually prefer to buy."
   ]
  },
  {
   "cell_type": "markdown",
   "metadata": {},
   "source": [
    "### Other customer types:"
   ]
  },
  {
   "cell_type": "code",
   "execution_count": 73,
   "metadata": {},
   "outputs": [
    {
     "name": "stdout",
     "output_type": "stream",
     "text": [
      "                              PROD_NAME  SEGMENT/OTHERS  AFFINITY\n",
      "70  Smiths Crinkle Chips Salt  Vinegar         0.064319  1.361964\n",
      "29                       Kettle Chilli         0.063533  1.345311\n",
      "6                      Cheezels Cheese         0.062323  1.319701\n",
      "9      Cobs Popd Sour Crm Chives Chips         0.060042  1.271394\n",
      "16     Doritos Corn Chips Nacho Cheese         0.059495  1.259799\n",
      "..                                  ...             ...       ...\n",
      "7                  Cheezels Cheese Box         0.025545  0.540910\n",
      "82     Snbts Whlgrn Crisps CheddrMstrd         0.024357  0.515756\n",
      "99             WW DStyle Chip Sea Salt         0.023712  0.502113\n",
      "83    Sunbites Whlegrn Crisps FrchOnin         0.023062  0.488347\n",
      "97              WW Crinkle Cut Chicken         0.017660  0.373952\n",
      "\n",
      "[105 rows x 3 columns]\n",
      " \n",
      "    BRAND_NAME  SEGMENT/OTHERS  AFFINITY\n",
      "9       Kettle        0.054491  1.153857\n",
      "18    Twisties        0.054230  1.148326\n",
      "4         Cobs        0.053973  1.142875\n",
      "17    Tostitos        0.053690  1.136882\n",
      "8    Infuzions        0.050757  1.074792\n",
      "3     Cheezels        0.050564  1.070705\n",
      "5      Doritos        0.050194  1.062870\n",
      "19    Tyrrells        0.048691  1.031035\n",
      "7      GrnWves        0.048263  1.021973\n",
      "11    Pringles        0.048244  1.021564\n",
      "16       Thins        0.047169  0.998807\n",
      "14     Smithss        0.045272  0.958630\n",
      "2      Cheetos        0.040452  0.856563\n",
      "12         RRD        0.038702  0.819518\n",
      "10     Natural        0.038504  0.815324\n",
      "1          CCs        0.036854  0.780388\n",
      "13      Smiths        0.035444  0.750527\n",
      "0       Burger        0.031967  0.676895\n",
      "6       French        0.031616  0.669468\n",
      "20  Woolworths        0.030690  0.649871\n",
      "15    Sunbites        0.023741  0.502717\n",
      " \n",
      "    PROD_SIZE (g)  SEGMENT/OTHERS  AFFINITY\n",
      "17            270        0.057208  1.211382\n",
      "18            330        0.055736  1.180220\n",
      "2             110        0.053233  1.127218\n",
      "5             135        0.052168  1.104660\n",
      "14            210        0.051697  1.094683\n",
      "19            380        0.051671  1.094134\n",
      "16            250        0.048368  1.024185\n",
      "4             134        0.048244  1.021564\n",
      "10            175        0.047172  0.998875\n",
      "6             150        0.046452  0.983615\n",
      "9             170        0.046259  0.979529\n",
      "8             165        0.043499  0.921084\n",
      "12            190        0.040154  0.850263\n",
      "7             160        0.035477  0.751221\n",
      "0              70        0.034795  0.736790\n",
      "11            180        0.033657  0.712697\n",
      "15            220        0.031967  0.676895\n",
      "13            200        0.031338  0.663583\n",
      "3             125        0.025545  0.540910\n",
      "1              90        0.023741  0.502717\n"
     ]
    },
    {
     "data": {
      "image/png": "[encoded data removed]",
      "text/plain": [
       "<Figure size 720x288 with 1 Axes>"
      ]
     },
     "metadata": {
      "needs_background": "light"
     },
     "output_type": "display_data"
    }
   ],
   "source": [
    "name_freq('MIDAGE SINGLES/COUPLES Mainstream')"
   ]
  },
  {
   "cell_type": "code",
   "execution_count": 249,
   "metadata": {},
   "outputs": [
    {
     "name": "stdout",
     "output_type": "stream",
     "text": [
      "                             PROD_NAME  SEGMENT/OTHERS  AFFINITY\n",
      "48           Pringles Mystery Flavour         0.180370  1.181524\n",
      "91            Tostitos Splash Of Lime         0.178673  1.170404\n",
      "31     Kettle Mozzarella Basil  Pesto         0.176221  1.154345\n",
      "17        Doritos Corn Chips Original         0.175276  1.148154\n",
      "15  Doritos Corn Chips Cheese Supreme         0.172453  1.129662\n",
      "..                                 ...             ...       ...\n",
      "65        Smith Crinkle Cut Bolognese         0.113914  0.746197\n",
      "72   Smiths Crinkle Cut Chips Chicken         0.112732  0.738453\n",
      "82    Snbts Whlgrn Crisps CheddrMstrd         0.112104  0.734344\n",
      "60             RRD Steak  Chimuchurri         0.111604  0.731064\n",
      "80    Smiths Thinly Cut Roast Chicken         0.105710  0.692457\n",
      "\n",
      "[105 rows x 3 columns]\n",
      " \n",
      "    BRAND_NAME  SEGMENT/OTHERS  AFFINITY\n",
      "19    Tyrrells        0.167569  1.097666\n",
      "18    Twisties        0.166645  1.091617\n",
      "11    Pringles        0.166019  1.087516\n",
      "5      Doritos        0.163873  1.073459\n",
      "17    Tostitos        0.162436  1.064044\n",
      "4         Cobs        0.162140  1.062107\n",
      "9       Kettle        0.161524  1.058070\n",
      "8    Infuzions        0.160370  1.050509\n",
      "16       Thins        0.156794  1.027084\n",
      "7      GrnWves        0.153894  1.008092\n",
      "3     Cheezels        0.149107  0.976730\n",
      "6       French        0.147135  0.963817\n",
      "14     Smithss        0.140134  0.917953\n",
      "1          CCs        0.139510  0.913868\n",
      "10     Natural        0.131376  0.860587\n",
      "2      Cheetos        0.129724  0.849764\n",
      "12         RRD        0.129594  0.848910\n",
      "20  Woolworths        0.129013  0.845104\n",
      "15    Sunbites        0.123347  0.807991\n",
      "13      Smiths        0.120232  0.787583\n",
      "0       Burger        0.117802  0.771668\n",
      " \n",
      "    PROD_SIZE (g)  SEGMENT/OTHERS  AFFINITY\n",
      "17            270        0.170033  1.113809\n",
      "19            380        0.167967  1.100277\n",
      "4             134        0.166019  1.087516\n",
      "2             110        0.163457  1.070733\n",
      "14            210        0.162714  1.065864\n",
      "18            330        0.162461  1.064206\n",
      "16            250        0.159977  1.047937\n",
      "5             135        0.157659  1.032755\n",
      "9             170        0.152750  1.000593\n",
      "10            175        0.148698  0.974050\n",
      "6             150        0.148374  0.971930\n",
      "8             165        0.147354  0.965248\n",
      "7             160        0.141344  0.925882\n",
      "3             125        0.132780  0.869782\n",
      "12            190        0.129855  0.850619\n",
      "13            200        0.126940  0.831523\n",
      "0              70        0.126677  0.829805\n",
      "1              90        0.123347  0.807991\n",
      "15            220        0.117802  0.771668\n",
      "11            180        0.117219  0.767849\n"
     ]
    },
    {
     "data": {
      "image/png": "[encoded data removed]",
      "text/plain": [
       "<Figure size 720x288 with 1 Axes>"
      ]
     },
     "metadata": {
      "needs_background": "light"
     },
     "output_type": "display_data"
    }
   ],
   "source": [
    "name_freq('YOUNG SINGLES/COUPLES')"
   ]
  },
  {
   "cell_type": "code",
   "execution_count": 250,
   "metadata": {},
   "outputs": [
    {
     "name": "stdout",
     "output_type": "stream",
     "text": [
      "                               PROD_NAME  SEGMENT/OTHERS  AFFINITY\n",
      "40   Kettle Tortilla ChpsHnyJlpno Chili         0.706057  1.131141\n",
      "16      Doritos Corn Chips Nacho Cheese         0.697694  1.117742\n",
      "21             Grain Waves Sweet Chilli         0.691251  1.107420\n",
      "13   Doritos Corn Chip Mexican Jalapeno         0.687328  1.101135\n",
      "18                     Doritos Mexicana         0.685948  1.098925\n",
      "..                                   ...             ...       ...\n",
      "7                   Cheezels Cheese Box         0.528555  0.846773\n",
      "82      Snbts Whlgrn Crisps CheddrMstrd         0.527366  0.844867\n",
      "60               RRD Steak  Chimuchurri         0.515102  0.825220\n",
      "102    WW Sour Cream OnionStacked Chips         0.511327  0.819172\n",
      "100              WW Original Corn Chips         0.500266  0.801452\n",
      "\n",
      "[105 rows x 3 columns]\n",
      " \n",
      "    BRAND_NAME  SEGMENT/OTHERS  AFFINITY\n",
      "4         Cobs        0.672009  1.076593\n",
      "5      Doritos        0.665380  1.065974\n",
      "19    Tyrrells        0.662117  1.060745\n",
      "18    Twisties        0.660374  1.057953\n",
      "9       Kettle        0.656663  1.052009\n",
      "17    Tostitos        0.649145  1.039964\n",
      "11    Pringles        0.646855  1.036296\n",
      "7      GrnWves        0.642244  1.028908\n",
      "8    Infuzions        0.640097  1.025468\n",
      "16       Thins        0.629394  1.008323\n",
      "2      Cheetos        0.606157  0.971096\n",
      "3     Cheezels        0.600256  0.961642\n",
      "14     Smithss        0.593579  0.950945\n",
      "12         RRD        0.571022  0.914807\n",
      "1          CCs        0.562432  0.901045\n",
      "6       French        0.554706  0.888668\n",
      "10     Natural        0.552328  0.884857\n",
      "13      Smiths        0.548592  0.878873\n",
      "0       Burger        0.538860  0.863282\n",
      "20  Woolworths        0.537450  0.861023\n",
      "15    Sunbites        0.530519  0.849919\n",
      " \n",
      "    PROD_SIZE (g)  SEGMENT/OTHERS  AFFINITY\n",
      "17            270        0.672311  1.077077\n",
      "5             135        0.670341  1.073922\n",
      "14            210        0.666249  1.067365\n",
      "19            380        0.663910  1.063618\n",
      "2             110        0.661882  1.060369\n",
      "18            330        0.647378  1.037133\n",
      "4             134        0.646855  1.036296\n",
      "16            250        0.637173  1.020784\n",
      "9             170        0.634959  1.017237\n",
      "6             150        0.625159  1.001537\n",
      "8             165        0.618801  0.991351\n",
      "10            175        0.607461  0.973184\n",
      "12            190        0.585523  0.938038\n",
      "11            180        0.545861  0.874498\n",
      "15            220        0.538860  0.863282\n",
      "13            200        0.534050  0.855575\n",
      "1              90        0.530519  0.849919\n",
      "0              70        0.529191  0.847792\n",
      "3             125        0.528555  0.846773\n",
      "7             160        0.521586  0.835607\n"
     ]
    },
    {
     "data": {
      "image/png": "[encoded data removed]",
      "text/plain": [
       "<Figure size 720x288 with 1 Axes>"
      ]
     },
     "metadata": {
      "needs_background": "light"
     },
     "output_type": "display_data"
    }
   ],
   "source": [
    "name_freq('Mainstream')"
   ]
  },
  {
   "cell_type": "code",
   "execution_count": 251,
   "metadata": {},
   "outputs": [
    {
     "name": "stdout",
     "output_type": "stream",
     "text": [
      "                               PROD_NAME  SEGMENT/OTHERS  AFFINITY\n",
      "100              WW Original Corn Chips         0.422457  1.182157\n",
      "60               RRD Steak  Chimuchurri         0.412698  1.154849\n",
      "24      Infuzions Mango Chutny Papadums         0.396771  1.110280\n",
      "101           WW Original Stacked Chips         0.394030  1.102609\n",
      "7                   Cheezels Cheese Box         0.392857  1.099328\n",
      "..                                   ...             ...       ...\n",
      "18                     Doritos Mexicana         0.331328  0.927151\n",
      "70   Smiths Crinkle Chips Salt  Vinegar         0.330573  0.925039\n",
      "16      Doritos Corn Chips Nacho Cheese         0.321007  0.898269\n",
      "40   Kettle Tortilla ChpsHnyJlpno Chili         0.320151  0.895874\n",
      "12               Doritos Cheese Supreme         0.317589  0.888705\n",
      "\n",
      "[105 rows x 3 columns]\n",
      " \n",
      "    BRAND_NAME  SEGMENT/OTHERS  AFFINITY\n",
      "0       Burger        0.388499  1.087133\n",
      "20  Woolworths        0.379176  1.061044\n",
      "15    Sunbites        0.377875  1.057402\n",
      "1          CCs        0.373265  1.044504\n",
      "3     Cheezels        0.371863  1.040581\n",
      "10     Natural        0.370845  1.037733\n",
      "12         RRD        0.370254  1.036077\n",
      "13      Smiths        0.364056  1.018735\n",
      "14     Smithss        0.361013  1.010218\n",
      "17    Tostitos        0.360186  1.007904\n",
      "16       Thins        0.358678  1.003685\n",
      "7      GrnWves        0.358612  1.003501\n",
      "2      Cheetos        0.357388  1.000076\n",
      "8    Infuzions        0.356493  0.997569\n",
      "11    Pringles        0.356392  0.997288\n",
      "4         Cobs        0.353374  0.988843\n",
      "6       French        0.350537  0.980902\n",
      "9       Kettle        0.350514  0.980840\n",
      "18    Twisties        0.349873  0.979046\n",
      "19    Tyrrells        0.349501  0.978004\n",
      "5      Doritos        0.338586  0.947462\n",
      " \n",
      "    PROD_SIZE (g)  SEGMENT/OTHERS  AFFINITY\n",
      "0              70        0.396771  1.110280\n",
      "3             125        0.392857  1.099328\n",
      "7             160        0.389881  1.090999\n",
      "15            220        0.388499  1.087133\n",
      "13            200        0.388202  1.086302\n",
      "1              90        0.377875  1.057402\n",
      "11            180        0.373757  1.045881\n",
      "10            175        0.362879  1.015440\n",
      "19            380        0.357783  1.001180\n",
      "12            190        0.357502  1.000393\n",
      "8             165        0.356572  0.997793\n",
      "16            250        0.356504  0.997602\n",
      "4             134        0.356392  0.997288\n",
      "14            210        0.355160  0.993841\n",
      "6             150        0.354692  0.992529\n",
      "2             110        0.352542  0.986514\n",
      "5             135        0.349262  0.977334\n",
      "17            270        0.346558  0.969769\n",
      "18            330        0.343729  0.961853\n",
      "9             170        0.342782  0.959202\n"
     ]
    },
    {
     "data": {
      "image/png": "[encoded data removed]",
      "text/plain": [
       "<Figure size 720x288 with 1 Axes>"
      ]
     },
     "metadata": {
      "needs_background": "light"
     },
     "output_type": "display_data"
    }
   ],
   "source": [
    "name_freq('Premium')"
   ]
  },
  {
   "cell_type": "code",
   "execution_count": 252,
   "metadata": {},
   "outputs": [
    {
     "name": "stdout",
     "output_type": "stream",
     "text": [
      "                               PROD_NAME  SEGMENT/OTHERS  AFFINITY\n",
      "75   Smiths Crinkle Cut French OnionDip         0.659522  1.211933\n",
      "97               WW Crinkle Cut Chicken         0.640569  1.177105\n",
      "99              WW DStyle Chip Sea Salt         0.637819  1.172050\n",
      "74    Smiths Crinkle Cut Chips Original         0.636418  1.169476\n",
      "66       Smith Crinkle Cut Mac N Cheese         0.624788  1.148105\n",
      "..                                   ...             ...       ...\n",
      "26  Infuzions Thai SweetChili PotatoMix         0.500846  0.920351\n",
      "10     Cobs Popd SwtChlli SrCream Chips         0.499161  0.917255\n",
      "9       Cobs Popd Sour Crm Chives Chips         0.495665  0.910830\n",
      "34           Kettle Sensations BBQMaple         0.493556  0.906954\n",
      "30             Kettle Honey Soy Chicken         0.491102  0.902446\n",
      "\n",
      "[105 rows x 3 columns]\n",
      " \n",
      "    BRAND_NAME  SEGMENT/OTHERS  AFFINITY\n",
      "6       French        0.622468  1.143842\n",
      "15    Sunbites        0.610640  1.122106\n",
      "13      Smiths        0.609931  1.120805\n",
      "20  Woolworths        0.601276  1.104901\n",
      "10     Natural        0.596604  1.096316\n",
      "0       Burger        0.587386  1.079377\n",
      "1          CCs        0.582828  1.071000\n",
      "12         RRD        0.578084  1.062283\n",
      "14     Smithss        0.568049  1.043843\n",
      "2      Cheetos        0.560824  1.030566\n",
      "3     Cheezels        0.547594  1.006254\n",
      "16       Thins        0.537833  0.988318\n",
      "5      Doritos        0.532615  0.978728\n",
      "8    Infuzions        0.531195  0.976120\n",
      "7      GrnWves        0.526643  0.967755\n",
      "11    Pringles        0.525478  0.965614\n",
      "9       Kettle        0.524580  0.963964\n",
      "18    Twisties        0.522265  0.959710\n",
      "19    Tyrrells        0.521277  0.957894\n",
      "17    Tostitos        0.518760  0.953270\n",
      "4         Cobs        0.508243  0.933944\n",
      " \n",
      "    PROD_SIZE (g)  SEGMENT/OTHERS  AFFINITY\n",
      "1              90        0.610640  1.122106\n",
      "7             160        0.604352  1.110552\n",
      "11            180        0.599537  1.101705\n",
      "13            200        0.592929  1.089561\n",
      "3             125        0.592765  1.089261\n",
      "15            220        0.587386  1.079377\n",
      "0              70        0.586993  1.078653\n",
      "12            190        0.580663  1.067022\n",
      "9             170        0.553661  1.017403\n",
      "10            175        0.552409  1.015102\n",
      "8             165        0.550131  1.010916\n",
      "6             150        0.546790  1.004777\n",
      "18            330        0.541362  0.994802\n",
      "16            250        0.533738  0.980792\n",
      "4             134        0.525478  0.965614\n",
      "2             110        0.517626  0.951186\n",
      "17            270        0.516551  0.949211\n",
      "5             135        0.514752  0.945905\n",
      "14            210        0.510735  0.938523\n",
      "19            380        0.509408  0.936085\n"
     ]
    },
    {
     "data": {
      "image/png": "[encoded data removed]",
      "text/plain": [
       "<Figure size 720x288 with 1 Axes>"
      ]
     },
     "metadata": {
      "needs_background": "light"
     },
     "output_type": "display_data"
    }
   ],
   "source": [
    "name_freq('Budget')"
   ]
  },
  {
   "cell_type": "markdown",
   "metadata": {},
   "source": [
    "## Summary and Recommendations:\n",
    "\n",
    "Based on the above data and analysis, `Mainstream` has the largest sample size among customers and also have the highest `AVE_SPEND` compared to others. `Mainstream` customers usually prefer Kettle, Smiths and Doritos are their chip brand and will often choose products that have salt, cheese and corn in their names. \n",
    "\n",
    "Under this tier, `YOUNG SINGLES/COUPLES` dominate the numbers. If we are looking to drive higher sales, we can also target more people which falls in this segment by offering products which they are more likely to buy. For this, we find that `YOUNG SINGLES/COUPLES Mainstream` are willing to spend the highest on chips and generally will prefer larger package sizes. They also tend to choose `Kettle` as their brand of choice with `Kettle Mozzarella Basil Pesto` as the most popular among them. As for the kinds of chips they like, we find that chips with cheese, salt, corn, original, or chicken on their product names are most likely bought than others. \n",
    "\n",
    "*--- Add results from getting segment/others and affinity metrics (see edits below) ---*\n",
    "\n",
    "## Other questions to explore further:\n",
    "- Which products are frequently bought together? This might include other chip products or other products in general.\n",
    "- In relation to the above, how much does each customer segment spend on chips alone as compared to other products they buy? For this we might need more data on what other products do customers buy within a 1-year time range.\n",
    "\n",
    "-------------\n",
    "\n",
    "## Edits after reviewing solution:\n",
    "- Added the affinity metric. I was confused at first on how it was calculated and I previously didn't think of getting the sales compared to the rest of the population for each segment. This is quite significant since total sales are more straightforward but might not give more specifics about customer segmentation.\n",
    "- Added time-series plot for date versus number of transactions to directly visualize the missing date.\n",
    "- There are some brand names which I did not thoroughly cleaned. I should have researched each brand name and compare if there are any duplicates -- which turns out there are (quite a lot of them!). This should serve as reminder to always utilize research especially for pieces of information that are not as familiar.\n",
    "\n",
    "*Last edit: January 19, 2023*"
   ]
  },
  {
   "cell_type": "code",
   "execution_count": null,
   "metadata": {},
   "outputs": [],
   "source": []
  }
 ],
 "metadata": {
  "kernelspec": {
   "display_name": "Python 3",
   "language": "python",
   "name": "python3"
  },
  "language_info": {
   "codemirror_mode": {
    "name": "ipython",
    "version": 3
   },
   "file_extension": ".py",
   "mimetype": "text/x-python",
   "name": "python",
   "nbconvert_exporter": "python",
   "pygments_lexer": "ipython3",
   "version": "3.8.3"
  }
 },
 "nbformat": 4,
 "nbformat_minor": 4
}
